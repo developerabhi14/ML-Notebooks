{
  "nbformat": 4,
  "nbformat_minor": 0,
  "metadata": {
    "colab": {
      "provenance": [],
      "authorship_tag": "ABX9TyMMty1JgOHbqwNR4rSil4DA",
      "include_colab_link": true
    },
    "kernelspec": {
      "name": "python3",
      "display_name": "Python 3"
    },
    "language_info": {
      "name": "python"
    }
  },
  "cells": [
    {
      "cell_type": "markdown",
      "metadata": {
        "id": "view-in-github",
        "colab_type": "text"
      },
      "source": [
        "<a href=\"https://colab.research.google.com/github/developerabhi14/ML-Notebooks/blob/main/Linear_Regression_using_Numpy_Gradient_Descent.ipynb\" target=\"_parent\"><img src=\"https://colab.research.google.com/assets/colab-badge.svg\" alt=\"Open In Colab\"/></a>"
      ]
    },
    {
      "cell_type": "code",
      "execution_count": 144,
      "metadata": {
        "id": "bmMcQ-HERLt7"
      },
      "outputs": [],
      "source": [
        "import numpy as np"
      ]
    },
    {
      "cell_type": "code",
      "source": [
        "# Defining dummy data\n",
        "np.random.seed(42)\n",
        "n=1000\n",
        "\n",
        "# Draw n samples from standard normal distribution\n",
        "# Use only two features\n",
        "x1 = np.random.randn(n)\n",
        "x2 = np.random.randn(n)\n",
        "\n",
        "# Generate some normally distributed noise to add data\n",
        "noise = np.random.normal(0,5,n) # (mean, standardDeviation, size)\n",
        "\n",
        "# Generateour target using independent variable and noise\n",
        "y = 100 * x1 - 50 * x2 + 10 + noise\n",
        "\n",
        "# Get our independent variables together and in shape\n",
        "X = np.array([x1,x2]).T"
      ],
      "metadata": {
        "id": "z4yC2ksYRpEW"
      },
      "execution_count": 145,
      "outputs": []
    },
    {
      "cell_type": "code",
      "source": [
        "# Defining a model\n",
        "\n",
        "import matplotlib.pyplot as plt\n",
        "\n",
        "class LinearRegression:\n",
        "  def __init__(self):\n",
        "    # intialize parameters\n",
        "    self.bias = 0\n",
        "\n",
        "  def fit(self, X, y, alpha=0.0001, n_iterations=100, tol=1e-6, patience =20):\n",
        "    # Get number of observations and num features\n",
        "    self.n, self.m = X.shape\n",
        "\n",
        "    # Create array of weights, one for each feature\n",
        "    self.weights = np.ones(self.m)\n",
        "\n",
        "    # create an attribute to log the loss\n",
        "    self.loss = []\n",
        "\n",
        "    # Variable to track the previous loss\n",
        "    prev_loss = float('inf')\n",
        "    patience_counter = 0 # Counter to check how many epochs the loss hasn't improved\n",
        "\n",
        "    # Iterate a number of times\n",
        "    for _ in range(n_iterations):\n",
        "      # Generate predictions\n",
        "      y_hat = X @ self.weights + self.bias\n",
        "\n",
        "      # Calculate error\n",
        "      error = y - y_hat\n",
        "\n",
        "      # Calculate loss (mse)\n",
        "      mse = np.square(error).mean()\n",
        "      if((_+1)%50==0):\n",
        "        print(f\"{_+1} epoch : Loss: {mse}\")\n",
        "\n",
        "      # Log the loss\n",
        "      self.loss.append(mse)\n",
        "\n",
        "      # Check if the loss has changed sufficiently\n",
        "      if abs(prev_loss-mse) <= tol:\n",
        "\n",
        "        patience_counter += 1\n",
        "\n",
        "\n",
        "        # If the loss hasn't improved for patience consecutive epochs, stop\n",
        "        if patience_counter >= patience:\n",
        "          print(f\"Early stopping at epoch {_+1}\")\n",
        "          break\n",
        "      else:\n",
        "          patience_counter=0 # Reset the patience counter if loss improved\n",
        "\n",
        "      # update previous loss for the next comparison\n",
        "      prev_loss = mse\n",
        "\n",
        "      # Calculate gradients using partial derivatices\n",
        "      gradient_wrt_weights = -(1/self.n) * X.T @ error #np.dot(X.T, error)\n",
        "      gradient_wrt_bias = -(1/self.n) * np.sum(error)\n",
        "\n",
        "      # Update parameters using gradients and alpha\n",
        "      self.weights = self.weights - alpha * gradient_wrt_weights\n",
        "      self.bias = self.bias - alpha * gradient_wrt_bias\n",
        "\n",
        "  def predict(self, X):\n",
        "    # Generate predictions using current weights and bias\n",
        "    return X @ self.weights + self.bias\n",
        "\n",
        "  def plot_loss_function(self):\n",
        "    plt.plot(self.loss, label=\"Loss data\")\n",
        "    plt.xlabel(\"Iterations\")\n",
        "    plt.ylabel(\"Loss\")\n",
        "    plt.title(\"Loss Curve\")\n",
        "    plt.legend()\n",
        "    plt.show()"
      ],
      "metadata": {
        "id": "eE8hebM4ShYM"
      },
      "execution_count": 146,
      "outputs": []
    },
    {
      "cell_type": "code",
      "source": [
        "# Instantiate model\n",
        "model=LinearRegression()\n",
        "\n",
        "# Fit the model to the data\n",
        "model.fit(X, y, alpha = 0.001, n_iterations = 100000)\n",
        "\n",
        "model.plot_loss_function()\n",
        "\n",
        "# Make predictions\n",
        "predictions = model.predict(X)\n",
        "\n",
        "# View parameters\n",
        "model.weights, model.bias"
      ],
      "metadata": {
        "colab": {
          "base_uri": "https://localhost:8080/",
          "height": 1000
        },
        "id": "jJwhSFUsT_EY",
        "outputId": "5a28d38a-529f-4f9d-c092-49a7c56b598d"
      },
      "execution_count": 147,
      "outputs": [
        {
          "output_type": "stream",
          "name": "stdout",
          "text": [
            "50 epoch : Loss: 11331.604164074492\n",
            "100 epoch : Loss: 10258.994688400664\n",
            "150 epoch : Loss: 9288.249628686606\n",
            "200 epoch : Loss: 8409.683521023539\n",
            "250 epoch : Loss: 7614.532939692607\n",
            "300 epoch : Loss: 6894.868610668092\n",
            "350 epoch : Loss: 6243.515913052851\n",
            "400 epoch : Loss: 5653.982966837417\n",
            "450 epoch : Loss: 5120.395582085698\n",
            "500 epoch : Loss: 4637.438414010237\n",
            "550 epoch : Loss: 4200.301731114236\n",
            "600 epoch : Loss: 3804.6332602838406\n",
            "650 epoch : Loss: 3446.494623988588\n",
            "700 epoch : Loss: 3122.3219311117587\n",
            "750 epoch : Loss: 2828.890124856442\n",
            "800 epoch : Loss: 2563.280729083281\n",
            "850 epoch : Loss: 2322.852668716838\n",
            "900 epoch : Loss: 2105.21587085733\n",
            "950 epoch : Loss: 1908.2073812675062\n",
            "1000 epoch : Loss: 1729.8697562551947\n",
            "1050 epoch : Loss: 1568.4315128972632\n",
            "1100 epoch : Loss: 1422.2894412830733\n",
            "1150 epoch : Loss: 1289.9926012048106\n",
            "1200 epoch : Loss: 1170.227842678479\n",
            "1250 epoch : Loss: 1061.8067050142847\n",
            "1300 epoch : Loss: 963.6535630241071\n",
            "1350 epoch : Loss: 874.7949014969885\n",
            "1400 epoch : Loss: 794.3496104179342\n",
            "1450 epoch : Loss: 721.5202036656231\n",
            "1500 epoch : Loss: 655.5848732045733\n",
            "1550 epoch : Loss: 595.8902991806867\n",
            "1600 epoch : Loss: 541.8451439207729\n",
            "1650 epoch : Loss: 492.9141647031854\n",
            "1700 epoch : Loss: 448.61288637762857\n",
            "1750 epoch : Loss: 408.5027805299773\n",
            "1800 epoch : Loss: 372.18690296957067\n",
            "1850 epoch : Loss: 339.30594591283113\n",
            "1900 epoch : Loss: 309.5346653948941\n",
            "1950 epoch : Loss: 282.57864820198967\n",
            "2000 epoch : Loss: 258.17138601940707\n",
            "2050 epoch : Loss: 236.07162756755983\n",
            "2100 epoch : Loss: 216.06098228263184\n",
            "2150 epoch : Loss: 197.94175161686184\n",
            "2200 epoch : Loss: 181.53496631181534\n",
            "2250 epoch : Loss: 166.67861005911942\n",
            "2300 epoch : Loss: 153.22601182775355\n",
            "2350 epoch : Loss: 141.044390823845\n",
            "2400 epoch : Loss: 130.01353957501834\n",
            "2450 epoch : Loss: 120.02463201201421\n",
            "2500 epoch : Loss: 110.97914466941849\n",
            "2550 epoch : Loss: 102.78788025739752\n",
            "2600 epoch : Loss: 95.37008387885544\n",
            "2650 epoch : Loss: 88.65264309144698\n",
            "2700 epoch : Loss: 82.56936385087407\n",
            "2750 epoch : Loss: 77.06031512916377\n",
            "2800 epoch : Loss: 72.07123568680629\n",
            "2850 epoch : Loss: 67.55299709757391\n",
            "2900 epoch : Loss: 63.461117685790676\n",
            "2950 epoch : Loss: 59.755322543380174\n",
            "3000 epoch : Loss: 56.399145253266425\n",
            "3050 epoch : Loss: 53.3595673612878\n",
            "3100 epoch : Loss: 50.60669201478451\n",
            "3150 epoch : Loss: 48.11344852629988\n",
            "3200 epoch : Loss: 45.85532492873126\n",
            "3250 epoch : Loss: 43.810125866873214\n",
            "3300 epoch : Loss: 41.95775342243699\n",
            "3350 epoch : Loss: 40.280008697776154\n",
            "3400 epoch : Loss: 38.760412190014776\n",
            "3450 epoch : Loss: 37.38404117412264\n",
            "3500 epoch : Loss: 36.137382482567745\n",
            "3550 epoch : Loss: 35.0081992221857\n",
            "3600 epoch : Loss: 33.98541010739878\n",
            "3650 epoch : Loss: 33.05898021422961\n",
            "3700 epoch : Loss: 32.21982207298132\n",
            "3750 epoch : Loss: 31.459706120101252\n",
            "3800 epoch : Loss: 30.77117962264658\n",
            "3850 epoch : Loss: 30.147493272839952\n",
            "3900 epoch : Loss: 29.58253472631603\n",
            "3950 epoch : Loss: 29.07076842651142\n",
            "4000 epoch : Loss: 28.607181120002743\n",
            "4050 epoch : Loss: 28.18723252400401\n",
            "4100 epoch : Loss: 27.806810658306524\n",
            "4150 epoch : Loss: 27.46219140016015\n",
            "4200 epoch : Loss: 27.15000186243209\n",
            "4250 epoch : Loss: 26.867187233242458\n",
            "4300 epoch : Loss: 26.610980749551832\n",
            "4350 epoch : Loss: 26.378876508203707\n",
            "4400 epoch : Loss: 26.168604845997777\n",
            "4450 epoch : Loss: 25.978110045798648\n",
            "4500 epoch : Loss: 25.805530148688167\n",
            "4550 epoch : Loss: 25.64917867300155\n",
            "4600 epoch : Loss: 25.50752805993777\n",
            "4650 epoch : Loss: 25.379194682506597\n",
            "4700 epoch : Loss: 25.262925270020883\n",
            "4750 epoch : Loss: 25.157584614331096\n",
            "4800 epoch : Loss: 25.062144436659562\n",
            "4850 epoch : Loss: 24.97567330535232\n",
            "4900 epoch : Loss: 24.897327505246505\n",
            "4950 epoch : Loss: 24.826342768739597\n",
            "5000 epoch : Loss: 24.762026787155026\n",
            "5050 epoch : Loss: 24.703752428694926\n",
            "5100 epoch : Loss: 24.650951596241878\n",
            "5150 epoch : Loss: 24.603109664582128\n",
            "5200 epoch : Loss: 24.559760442333236\n",
            "5250 epoch : Loss: 24.520481609034672\n",
            "5300 epoch : Loss: 24.484890582540093\n",
            "5350 epoch : Loss: 24.452640776090508\n",
            "5400 epoch : Loss: 24.42341820828677\n",
            "5450 epoch : Loss: 24.396938432654302\n",
            "5500 epoch : Loss: 24.372943756640257\n",
            "5550 epoch : Loss: 24.351200722732134\n",
            "5600 epoch : Loss: 24.331497826967105\n",
            "5650 epoch : Loss: 24.313643452436402\n",
            "5700 epoch : Loss: 24.2974639975043\n",
            "5750 epoch : Loss: 24.28280218037647\n",
            "5800 epoch : Loss: 24.269515503386195\n",
            "5850 epoch : Loss: 24.257474861937123\n",
            "5900 epoch : Loss: 24.246563284462937\n",
            "5950 epoch : Loss: 24.2366747910516\n",
            "6000 epoch : Loss: 24.227713359547977\n",
            "6050 epoch : Loss: 24.21959198900353\n",
            "6100 epoch : Loss: 24.212231851298796\n",
            "6150 epoch : Loss: 24.205561522628216\n",
            "6200 epoch : Loss: 24.199516287323057\n",
            "6250 epoch : Loss: 24.194037507195922\n",
            "6300 epoch : Loss: 24.189072050234163\n",
            "6350 epoch : Loss: 24.18457177305174\n",
            "6400 epoch : Loss: 24.180493052035715\n",
            "6450 epoch : Loss: 24.17679635860155\n",
            "6500 epoch : Loss: 24.173445874403136\n",
            "6550 epoch : Loss: 24.17040914273559\n",
            "6600 epoch : Loss: 24.167656752722994\n",
            "6650 epoch : Loss: 24.165162053204963\n",
            "6700 epoch : Loss: 24.162900893526093\n",
            "6750 epoch : Loss: 24.160851388696283\n",
            "6800 epoch : Loss: 24.158993706628397\n",
            "6850 epoch : Loss: 24.157309875375606\n",
            "6900 epoch : Loss: 24.15578360848652\n",
            "6950 epoch : Loss: 24.15440014677374\n",
            "7000 epoch : Loss: 24.153146114951596\n",
            "7050 epoch : Loss: 24.15200939174435\n",
            "7100 epoch : Loss: 24.15097899219823\n",
            "7150 epoch : Loss: 24.150044961049012\n",
            "7200 epoch : Loss: 24.149198276106283\n",
            "7250 epoch : Loss: 24.148430760711854\n",
            "7300 epoch : Loss: 24.147735004419665\n",
            "7350 epoch : Loss: 24.147104291124194\n",
            "7400 epoch : Loss: 24.146532533937055\n",
            "7450 epoch : Loss: 24.146014216177864\n",
            "7500 epoch : Loss: 24.145544337904504\n",
            "7550 epoch : Loss: 24.145118367462338\n",
            "7600 epoch : Loss: 24.144732197580925\n",
            "7650 epoch : Loss: 24.14438210559076\n",
            "7700 epoch : Loss: 24.14406471737328\n",
            "7750 epoch : Loss: 24.143776974693232\n",
            "7800 epoch : Loss: 24.14351610559591\n",
            "7850 epoch : Loss: 24.143279597581344\n",
            "7900 epoch : Loss: 24.143065173294673\n",
            "7950 epoch : Loss: 24.142870768496543\n",
            "8000 epoch : Loss: 24.142694512099386\n",
            "8050 epoch : Loss: 24.14253470807569\n",
            "8100 epoch : Loss: 24.142389819062576\n",
            "8150 epoch : Loss: 24.14225845150339\n",
            "8200 epoch : Loss: 24.142139342182215\n",
            "8250 epoch : Loss: 24.142031346020406\n",
            "8300 epoch : Loss: 24.141933425016997\n",
            "8350 epoch : Loss: 24.141844638225347\n",
            "8400 epoch : Loss: 24.141764132669188\n",
            "8450 epoch : Loss: 24.141691135109557\n",
            "8500 epoch : Loss: 24.141624944583242\n",
            "8550 epoch : Loss: 24.141564925639983\n",
            "8600 epoch : Loss: 24.14151050221324\n",
            "Early stopping at epoch 8638\n"
          ]
        },
        {
          "output_type": "display_data",
          "data": {
            "text/plain": [
              "<Figure size 640x480 with 1 Axes>"
            ],
            "image/png": "[encoded data removed]"
          },
          "metadata": {}
        },
        {
          "output_type": "execute_result",
          "data": {
            "text/plain": [
              "(array([100.08712219, -50.04667759]), 10.028049038021894)"
            ]
          },
          "metadata": {},
          "execution_count": 147
        }
      ]
    },
    {
      "cell_type": "markdown",
      "source": [
        "We have not used StandardScalar here, but it could be benificial because the scale of x1 and x2 is same but the scale of y is different, so lets see how the result differ using StandardScalar"
      ],
      "metadata": {
        "id": "2hW9ATy4WykR"
      }
    },
    {
      "cell_type": "code",
      "source": [
        "from sklearn.preprocessing import StandardScaler\n",
        "# Defining dummy data\n",
        "np.random.seed(42)\n",
        "n=1000\n",
        "\n",
        "# Draw n samples from standard normal distribution\n",
        "# Use only two features\n",
        "x1 = np.random.randn(n)\n",
        "x2 = np.random.randn(n)\n",
        "\n",
        "# Generate some normally distributed noise to add data\n",
        "noise = np.random.normal(0,5,n) # (mean, standardDeviation, size)\n",
        "\n",
        "# Generateour target using independent variable and noise\n",
        "y = 100 * x1 - 50 * x2 + 10 + noise\n",
        "\n",
        "# Get our independent variables together and in shape\n",
        "X = np.array([x1,x2]).T\n",
        "\n",
        "scaler_X = StandardScaler()\n",
        "X = scaler_X.fit_transform(X)\n",
        "\n",
        "# Apply StandardScaler to y\n",
        "scaler_y = StandardScaler()\n",
        "y = scaler_y.fit_transform(y.reshape(-1,1)).flatten()\n"
      ],
      "metadata": {
        "id": "OUf9mRafUVkI"
      },
      "execution_count": 148,
      "outputs": []
    },
    {
      "cell_type": "code",
      "source": [
        "y.shape, X.shape"
      ],
      "metadata": {
        "colab": {
          "base_uri": "https://localhost:8080/"
        },
        "id": "Woc0iuUUXqaH",
        "outputId": "49e9ed96-7f23-4106-ebea-91db9bca5ba5"
      },
      "execution_count": 149,
      "outputs": [
        {
          "output_type": "execute_result",
          "data": {
            "text/plain": [
              "((1000,), (1000, 2))"
            ]
          },
          "metadata": {},
          "execution_count": 149
        }
      ]
    },
    {
      "cell_type": "code",
      "source": [
        "# Instantiate model\n",
        "model=LinearRegression()\n",
        "\n",
        "# Fit the model to the data\n",
        "model.fit(X, y, alpha = 0.001, n_iterations = 100000)\n",
        "\n",
        "model.plot_loss_function()\n",
        "\n",
        "# Make predictions\n",
        "predictions = model.predict(X)\n",
        "# Inverse transform the predictions to get them back to the original scale\n",
        "y_pred_original = scaler_y.inverse_transform(predictions.reshape(-1, 1)).flatten()\n",
        "\n",
        "# View parameters\n",
        "model.weights, model.bias"
      ],
      "metadata": {
        "colab": {
          "base_uri": "https://localhost:8080/",
          "height": 1000
        },
        "id": "AHI_oxzoXZmW",
        "outputId": "a481d87c-08fd-4a3a-a001-10a556fc8a48"
      },
      "execution_count": 150,
      "outputs": [
        {
          "output_type": "stream",
          "name": "stdout",
          "text": [
            "50 epoch : Loss: 1.8997417665105203\n",
            "100 epoch : Loss: 1.720003599791739\n",
            "150 epoch : Loss: 1.5573130427730564\n",
            "200 epoch : Loss: 1.4100507984213235\n",
            "250 epoch : Loss: 1.2767516089263893\n",
            "300 epoch : Loss: 1.1560895807071416\n",
            "350 epoch : Loss: 1.0468649095351081\n",
            "400 epoch : Loss: 0.947991871996816\n",
            "450 epoch : Loss: 0.858487962317013\n",
            "500 epoch : Loss: 0.7774640651391153\n",
            "550 epoch : Loss: 0.7041155653246026\n",
            "600 epoch : Loss: 0.6377143052958519\n",
            "650 epoch : Loss: 0.5776013090033625\n",
            "700 epoch : Loss: 0.5231801993353303\n",
            "750 epoch : Loss: 0.4739112427837092\n",
            "800 epoch : Loss: 0.42930596150727435\n",
            "850 epoch : Loss: 0.3889222586529947\n",
            "900 epoch : Loss: 0.35236000797028283\n",
            "950 epoch : Loss: 0.3192570634309039\n",
            "1000 epoch : Loss: 0.2892856487979187\n",
            "1050 epoch : Loss: 0.2621490909129146\n",
            "1100 epoch : Loss: 0.237578863930706\n",
            "1150 epoch : Loss: 0.21533191485971684\n",
            "1200 epoch : Loss: 0.1951882435960929\n",
            "1250 epoch : Loss: 0.17694871319886188\n",
            "1300 epoch : Loss: 0.1604330684680965\n",
            "1350 epoch : Loss: 0.14547814298143485\n",
            "1400 epoch : Loss: 0.13193623663766482\n",
            "1450 epoch : Loss: 0.11967364746852172\n",
            "1500 epoch : Loss: 0.10856934302869808\n",
            "1550 epoch : Loss: 0.09851375807496465\n",
            "1600 epoch : Loss: 0.0894077065124143\n",
            "1650 epoch : Loss: 0.08116139673195416\n",
            "1700 epoch : Loss: 0.07369354049985846\n",
            "1750 epoch : Loss: 0.06693054649792464\n",
            "1800 epoch : Loss: 0.06080579046099548\n",
            "1850 epoch : Loss: 0.055258954625890096\n",
            "1900 epoch : Loss: 0.05023542989985341\n",
            "1950 epoch : Loss: 0.04568577478448408\n",
            "2000 epoch : Loss: 0.04156522565906559\n",
            "2050 epoch : Loss: 0.037833253541020455\n",
            "2100 epoch : Loss: 0.03445316290600851\n",
            "2150 epoch : Loss: 0.03139172857067678\n",
            "2200 epoch : Loss: 0.02861886702146952\n",
            "2250 epoch : Loss: 0.026107338917055464\n",
            "2300 epoch : Loss: 0.0238324798032733\n",
            "2350 epoch : Loss: 0.02177195636118256\n",
            "2400 epoch : Loss: 0.019905545763652305\n",
            "2450 epoch : Loss: 0.018214935946492355\n",
            "2500 epoch : Loss: 0.0166835448087446\n",
            "2550 epoch : Loss: 0.015296356545498319\n",
            "2600 epoch : Loss: 0.014039773487372375\n",
            "2650 epoch : Loss: 0.012901481975324959\n",
            "2700 epoch : Loss: 0.011870330939266599\n",
            "2750 epoch : Loss: 0.010936221975458047\n",
            "2800 epoch : Loss: 0.010090009832145615\n",
            "2850 epoch : Loss: 0.009323412316467458\n",
            "2900 epoch : Loss: 0.008628928729390669\n",
            "2950 epoch : Loss: 0.00799976602025333\n",
            "3000 epoch : Loss: 0.007429771929234487\n",
            "3050 epoch : Loss: 0.006913374455525922\n",
            "3100 epoch : Loss: 0.006445527051829902\n",
            "3150 epoch : Loss: 0.006021659002681921\n",
            "3200 epoch : Loss: 0.005637630495569343\n",
            "3250 epoch : Loss: 0.005289691940396386\n",
            "3300 epoch : Loss: 0.004974447135000833\n",
            "3350 epoch : Loss: 0.004688819912579339\n",
            "3400 epoch : Loss: 0.004430023941404879\n",
            "3450 epoch : Loss: 0.0041955353784691165\n",
            "3500 epoch : Loss: 0.003983068106964755\n",
            "3550 epoch : Loss: 0.003790551313119376\n",
            "3600 epoch : Loss: 0.003616109181060687\n",
            "3650 epoch : Loss: 0.003458042505361797\n",
            "3700 epoch : Loss: 0.00331481203989451\n",
            "3750 epoch : Loss: 0.003185023418797928\n",
            "3800 epoch : Loss: 0.003067413500918425\n",
            "3850 epoch : Loss: 0.0029608380031523013\n",
            "3900 epoch : Loss: 0.0028642603008617977\n",
            "3950 epoch : Loss: 0.00277674128506806\n",
            "4000 epoch : Loss: 0.002697430176562597\n",
            "4050 epoch : Loss: 0.00262555620652929\n",
            "4100 epoch : Loss: 0.002560421081822154\n",
            "4150 epoch : Loss: 0.002501392160787858\n",
            "4200 epoch : Loss: 0.0024478962725321377\n",
            "Early stopping at epoch 4229\n"
          ]
        },
        {
          "output_type": "display_data",
          "data": {
            "text/plain": [
              "<Figure size 640x480 with 1 Axes>"
            ],
            "image/png": "[encoded data removed]"
          },
          "metadata": {}
        },
        {
          "output_type": "execute_result",
          "data": {
            "text/plain": [
              "(array([ 0.88148461, -0.42448493]), 2.1784574144589875e-17)"
            ]
          },
          "metadata": {},
          "execution_count": 150
        }
      ]
    },
    {
      "cell_type": "code",
      "source": [],
      "metadata": {
        "id": "X_DHkQCqXfHc"
      },
      "execution_count": null,
      "outputs": []
    }
  ]
}