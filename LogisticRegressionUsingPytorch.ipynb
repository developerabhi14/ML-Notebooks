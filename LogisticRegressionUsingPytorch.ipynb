{
  "nbformat": 4,
  "nbformat_minor": 0,
  "metadata": {
    "colab": {
      "provenance": [],
      "authorship_tag": "ABX9TyMw7PT2xInF13d9iFjsGKCA",
      "include_colab_link": true
    },
    "kernelspec": {
      "name": "python3",
      "display_name": "Python 3"
    },
    "language_info": {
      "name": "python"
    }
  },
  "cells": [
    {
      "cell_type": "markdown",
      "metadata": {
        "id": "view-in-github",
        "colab_type": "text"
      },
      "source": [
        "<a href=\"https://colab.research.google.com/github/developerabhi14/ML-Notebooks/blob/main/LogisticRegressionUsingPytorch.ipynb\" target=\"_parent\"><img src=\"https://colab.research.google.com/assets/colab-badge.svg\" alt=\"Open In Colab\"/></a>"
      ]
    },
    {
      "cell_type": "code",
      "execution_count": 13,
      "metadata": {
        "id": "2aXRLJumh9Vz"
      },
      "outputs": [],
      "source": [
        "import torch\n",
        "import torch.nn as nn\n",
        "import numpy as np\n",
        "import pandas as pd"
      ]
    },
    {
      "cell_type": "code",
      "source": [
        "X=np.array([[ 0.49671415,  0.35778736, -1.59442766],\n",
        "       [-0.1382643 ,  0.56078453, -0.59937502],\n",
        "       [ 0.64768854,  1.08305124,  0.0052437 ],\n",
        "       [ 1.52302986,  1.05380205,  0.04698059],\n",
        "       [-0.23415337, -1.37766937, -0.45006547],\n",
        "       [-0.23413696, -0.93782504,  0.62284993],\n",
        "       [ 1.57921282,  0.51503527, -1.06762043],\n",
        "       [ 0.76743473,  0.51378595, -0.14237949],\n",
        "       [-0.46947439,  0.51504769,  0.12029563],\n",
        "       [ 0.54256004,  3.85273149,  0.51443883],\n",
        "       [-0.46341769,  0.57089051,  0.71161488],\n",
        "       [-0.46572975,  1.13556564, -1.12464209],\n",
        "       [ 0.24196227,  0.95400176, -1.53411417],\n",
        "       [-1.91328024,  0.65139125,  1.27767682],\n",
        "       [-1.72491783, -0.31526924,  0.33231401],\n",
        "       [-0.56228753,  0.75896922, -0.74848654],\n",
        "       [-1.01283112, -0.77282521,  1.55115198],\n",
        "       [ 0.31424733, -0.23681861,  0.11567463],\n",
        "       [-0.90802408, -0.48536355,  1.17929718],\n",
        "       [-1.4123037 ,  0.08187414,  0.06751848],\n",
        "       [ 1.46564877,  2.31465857,  2.06074792],\n",
        "       [-0.2257763 , -1.86726519,  1.75534084],\n",
        "       [ 0.0675282 ,  0.68626019, -0.24896415],\n",
        "       [-1.42474819, -1.61271587,  0.97157095],\n",
        "       [-0.54438272, -0.47193187,  0.64537595],\n",
        "       [ 0.11092259,  1.0889506 ,  1.36863156],\n",
        "       [-1.15099358,  0.06428002, -0.96492346],\n",
        "       [ 0.37569802, -1.07774478,  0.68605146],\n",
        "       [-0.60063869, -0.71530371,  1.05842449],\n",
        "       [-0.29169375,  0.67959775, -1.75873949],\n",
        "       [-0.60170661, -0.73036663, -1.18325851],\n",
        "       [ 1.85227818,  0.21645859, -2.03923218],\n",
        "       [-0.01349722,  0.04557184, -0.26940683],\n",
        "       [-1.05771093, -0.65160035,  0.71754226],\n",
        "       [ 0.82254491,  2.14394409,  1.50235705],\n",
        "       [-1.22084365,  0.63391902,  0.07409478],\n",
        "       [ 0.2088636 , -2.02514259,  1.62861555],\n",
        "       [-1.95967012,  0.18645431, -1.38010146],\n",
        "       [-1.32818605, -0.66178646, -1.70338244],\n",
        "       [ 0.19686124,  0.85243333, -0.0555477 ],\n",
        "       [ 0.73846658, -0.79252074,  0.38406545],\n",
        "       [ 0.17136828, -0.11473644, -0.03269475],\n",
        "       [-0.11564828,  0.50498728, -2.0674421 ],\n",
        "       [-0.3011037 ,  0.86575519, -0.08912004],\n",
        "       [-1.47852199, -1.20029641, -1.3044695 ],\n",
        "       [-0.71984421, -0.33450124,  0.66967255],\n",
        "       [-0.46063877, -0.47494531,  0.36659825],\n",
        "       [ 1.05712223, -0.65332923, -0.93987979],\n",
        "       [ 0.34361829,  1.76545424, -0.51386692],\n",
        "       [-1.76304016,  0.40498171, -1.05921352],\n",
        "       [ 0.32408397, -1.26088395, -0.0626791 ],\n",
        "       [-0.38508228,  0.91786195,  0.95514232],\n",
        "       [-0.676922  ,  2.1221562 , -0.98572605],\n",
        "       [ 0.61167629,  1.03246526,  0.50404652],\n",
        "       [ 1.03099952, -1.51936997, -0.53025762],\n",
        "       [ 0.93128012, -0.48423407, -0.79287283],\n",
        "       [-0.83921752,  1.26691115, -0.10703036],\n",
        "       [-0.30921238, -0.70766947, -1.03524232],\n",
        "       [ 0.33126343,  0.44381943, -0.55364931],\n",
        "       [ 0.97554513,  0.77463405, -1.19787789],\n",
        "       [-0.47917424, -0.92693047,  1.96472513],\n",
        "       [-0.18565898, -0.05952536,  0.03526355],\n",
        "       [-1.10633497, -3.24126734, -0.69972551],\n",
        "       [-1.19620662, -1.02438764,  0.21397991],\n",
        "       [ 0.81252582, -0.25256815, -0.11232805],\n",
        "       [ 1.35624003, -1.24778318, -0.2209696 ],\n",
        "       [-0.07201012,  1.6324113 ,  0.6141667 ],\n",
        "       [ 1.0035329 , -1.43014138,  0.75750771],\n",
        "       [ 0.36163603, -0.44004449, -0.53050115],\n",
        "       [-0.64511975,  0.13074058, -0.57581824],\n",
        "       [ 0.36139561,  1.44127329, -0.2750517 ],\n",
        "       [ 1.53803657, -1.43586215, -2.30192116],\n",
        "       [-0.03582604,  1.16316375, -1.51519106],\n",
        "       [ 1.56464366,  0.01023306,  1.36687427],\n",
        "       [-2.6197451 , -0.98150865,  1.64496771],\n",
        "       [ 0.8219025 ,  0.46210347, -0.24903604],\n",
        "       [ 0.08704707,  0.1990597 ,  0.57655696],\n",
        "       [-0.29900735, -0.60021688,  0.31125015],\n",
        "       [ 0.09176078,  0.06980208,  3.07888081],\n",
        "       [-1.98756891, -0.3853136 ,  1.11957491],\n",
        "       [-0.21967189,  0.11351735, -0.12791759],\n",
        "       [ 0.35711257,  0.66213067, -0.95554044],\n",
        "       [ 1.47789404,  1.58601682, -1.60644632],\n",
        "       [-0.51827022, -1.2378155 ,  0.20346364],\n",
        "       [-0.8084936 ,  2.13303337, -0.75635075],\n",
        "       [-0.50175704, -1.9520878 , -1.42225371],\n",
        "       [ 0.91540212, -0.1517851 , -0.64657288],\n",
        "       [ 0.32875111,  0.58831721, -1.081548  ],\n",
        "       [-0.5297602 ,  0.28099187,  1.68714164],\n",
        "       [ 0.51326743, -0.62269952,  0.88163976],\n",
        "       [ 0.09707755, -0.20812225, -0.00797264],\n",
        "       [ 0.96864499, -0.49300093,  1.47994414],\n",
        "       [-0.70205309, -0.58936476,  0.07736831],\n",
        "       [-0.32766215,  0.8496021 , -0.8612842 ],\n",
        "       [-0.39210815,  0.35701549,  1.52312408],\n",
        "       [-1.46351495, -0.6929096 ,  0.53891004],\n",
        "       [ 0.29612028,  0.89959988, -1.03724615],\n",
        "       [ 0.26105527,  0.30729952, -0.19033868],\n",
        "       [ 0.00511346,  0.81286212, -0.87561825],\n",
        "       [-0.23458713,  0.62962884, -1.38279973],\n",
        "       [-1.41537074, -0.82899501,  0.92617755],\n",
        "       [-0.42064532, -0.56018104,  1.90941664],\n",
        "       [-0.34271452,  0.74729361, -1.39856757],\n",
        "       [-0.80227727,  0.61037027,  0.56296924],\n",
        "       [-0.16128571, -0.02090159, -0.65064257],\n",
        "       [ 0.40405086,  0.11732738, -0.48712538],\n",
        "       [ 1.8861859 ,  1.2776649 , -0.59239392],\n",
        "       [ 0.17457781, -0.59157139, -0.86399077],\n",
        "       [ 0.25755039,  0.54709738,  0.04852163],\n",
        "       [-0.07444592, -0.20219265, -0.83095012],\n",
        "       [-1.91877122, -0.2176812 ,  0.27045683],\n",
        "       [-0.02651388,  1.09877685, -0.05023811],\n",
        "       [ 0.06023021,  0.82541635, -0.23894805],\n",
        "       [ 2.46324211,  0.81350964, -0.90756366],\n",
        "       [-0.19236096,  1.30547881, -0.57677133],\n",
        "       [ 0.30154734,  0.02100384,  0.75539123],\n",
        "       [-0.03471177,  0.68195297,  0.50091719],\n",
        "       [-1.16867804, -0.31026676, -0.97755524],\n",
        "       [ 1.14282281,  0.32416635,  0.09933231],\n",
        "       [ 0.75193303, -0.13014305,  0.75138712],\n",
        "       [ 0.79103195,  0.09699596, -1.66940528],\n",
        "       [-0.90938745,  0.59515703,  0.54336019],\n",
        "       [ 1.40279431, -0.81822068, -0.66262376],\n",
        "       [-1.40185106,  2.09238728,  0.57059867],\n",
        "       [ 0.58685709, -1.00601738, -0.76325916],\n",
        "       [ 2.19045563, -1.21418861, -1.8048821 ],\n",
        "       [-0.99053633,  1.15811087, -1.62754244],\n",
        "       [-0.56629773,  0.79166269,  0.04808495],\n",
        "       [ 0.09965137,  0.62411982,  0.2597225 ],\n",
        "       [-0.50347565,  0.62834551, -0.90431663],\n",
        "       [-1.55066343, -0.01224677,  0.63859246],\n",
        "       [ 0.06856297, -0.89725437, -1.66152006],\n",
        "       [-1.06230371,  0.07580456, -0.0660798 ],\n",
        "       [ 0.47359243, -0.67716171, -1.2110162 ],\n",
        "       [-0.91942423,  0.97511973, -0.65183611],\n",
        "       [ 1.54993441, -0.14705738,  0.04739867],\n",
        "       [-0.78325329, -0.8254972 , -0.86041337],\n",
        "       [-0.32206152, -0.32138584, -0.38455554],\n",
        "       [ 0.81351722,  0.41293145,  1.00629281],\n",
        "       [-1.23086432, -0.56372455, -0.57689187],\n",
        "       [ 0.22745993, -0.8222204 ,  0.83569211],\n",
        "       [ 1.30714275,  0.24368721, -1.12970685],\n",
        "       [-1.60748323,  0.24496657,  0.52980418],\n",
        "       [ 0.18463386, -0.50694318,  1.44156862],\n",
        "       [ 0.25988279, -0.47103831, -2.4716445 ],\n",
        "       [ 0.78182287,  0.23204994, -0.79689526],\n",
        "       [-1.23695071, -1.44808434,  0.57707213],\n",
        "       [-1.32045661, -1.40746377, -0.20304539],\n",
        "       [ 0.52194157, -0.71844422,  0.37114587],\n",
        "       [ 0.29698467, -0.21344715, -0.60398519],\n",
        "       [ 0.25049285,  0.31090757,  0.08658979],\n",
        "       [ 0.34644821,  1.47535622, -0.15567724],\n",
        "       [-0.68002472,  0.85765962,  1.16778206],\n",
        "       [ 0.2322537 , -0.15993853,  0.25442084],\n",
        "       [ 0.29307247, -0.01901621,  0.33760266],\n",
        "       [-0.71435142, -1.00252936, -0.41187697],\n",
        "       [ 1.86577451, -0.01851314, -0.48760622],\n",
        "       [ 0.47383292, -0.28865864, -0.43255819],\n",
        "       [-1.1913035 ,  0.32271856,  0.39445214],\n",
        "       [ 0.65655361, -0.82723094, -0.42098448],\n",
        "       [-0.97468167,  0.51934651,  0.28977486],\n",
        "       [ 0.7870846 ,  1.53273891,  2.0754008 ],\n",
        "       [ 1.15859558, -0.10876015,  0.8711247 ],\n",
        "       [-0.82068232,  0.40171172, -0.32602353],\n",
        "       [ 0.96337613,  0.69014399,  1.20121392],\n",
        "       [ 0.41278093, -0.40122047, -0.40807537],\n",
        "       [ 0.82206016,  0.22409248, -2.03812454],\n",
        "       [ 1.89679298,  0.0125924 , -1.00808631],\n",
        "       [-0.24538812,  0.0976761 , -1.87079192],\n",
        "       [-0.75373616, -0.77300978, -0.35151348],\n",
        "       [-0.88951443,  0.02451017,  0.01841838],\n",
        "       [-0.81581028,  0.49799829,  1.67643731],\n",
        "       [-0.07710171,  1.45114361,  0.32692737],\n",
        "       [ 0.34115197,  0.95927083, -0.21910053],\n",
        "       [ 0.2766908 ,  2.15318246,  0.82940558],\n",
        "       [ 0.82718325, -0.76734756, -2.21113531],\n",
        "       [ 0.01300189,  0.87232064,  0.23561456],\n",
        "       [ 1.45353408,  0.18334201,  0.77086519],\n",
        "       [-0.26465683,  2.18980293, -1.47858625],\n",
        "       [ 2.72016917, -0.80829829,  1.14375404],\n",
        "       [ 0.62566735, -0.83972184,  0.33849641],\n",
        "       [-0.85715756, -0.59939265, -0.41528791],\n",
        "       [-1.0708925 , -2.12389572,  0.63278187],\n",
        "       [ 0.48247242, -0.52575502,  2.27069286],\n",
        "       [-0.22346279, -0.75913266,  0.18186626],\n",
        "       [ 0.71400049,  0.15039379,  0.24822059],\n",
        "       [ 0.47323762,  0.34175598, -0.4593609 ],\n",
        "       [-0.07282891,  1.87617084, -0.84984437],\n",
        "       [-0.84679372,  0.95042384,  0.83033582],\n",
        "       [-1.51484722, -0.57690366, -0.85608383],\n",
        "       [-0.44651495, -0.89841467,  0.07156624],\n",
        "       [ 0.85639879,  0.49191917, -0.47765745],\n",
        "       [ 0.21409374, -1.32023321,  0.47897983],\n",
        "       [-1.24573878,  1.83145877,  0.33366211],\n",
        "       [ 0.17318093,  1.17944012,  1.03753994],\n",
        "       [ 0.38531738, -0.46917565, -0.5100164 ],\n",
        "       [-0.88385744, -1.71313453, -0.26987494],\n",
        "       [ 0.15372511,  1.35387237, -0.97876372],\n",
        "       [ 0.05820872, -0.11453985, -0.44429326],\n",
        "       [-1.1429703 ,  1.23781631,  0.37730049]])\n",
        "\n",
        "Y=np.array([1., 1., 1., 1., 0., 0., 1., 1., 0., 1., 0., 1., 1., 0., 0., 1., 0.,\n",
        "       0., 0., 0., 1., 0., 1., 0., 0., 0., 0., 0., 0., 1., 0., 1., 1., 0.,\n",
        "       1., 0., 0., 0., 0., 1., 0., 1., 1., 1., 0., 0., 0., 1., 1., 0., 0.,\n",
        "       0., 1., 1., 1., 1., 1., 1., 1., 1., 0., 0., 0., 0., 1., 1., 1., 0.,\n",
        "       1., 1., 1., 1., 1., 1., 0., 1., 0., 0., 0., 0., 1., 1., 1., 0., 1.,\n",
        "       0., 1., 1., 0., 0., 0., 0., 0., 1., 0., 0., 1., 1., 1., 1., 0., 0.,\n",
        "       1., 0., 1., 1., 1., 1., 1., 1., 0., 1., 1., 1., 1., 0., 1., 0., 1.,\n",
        "       0., 1., 0., 1., 1., 1., 1., 1., 1., 1., 1., 0., 1., 0., 1., 1., 1.,\n",
        "       0., 0., 1., 0., 0., 1., 0., 0., 1., 1., 0., 0., 0., 1., 1., 1., 0.,\n",
        "       0., 0., 0., 1., 1., 0., 1., 0., 1., 1., 0., 1., 1., 1., 1., 1., 0.,\n",
        "       0., 0., 1., 1., 1., 1., 1., 1., 1., 1., 0., 0., 0., 0., 0., 1., 1.,\n",
        "       1., 0., 0., 0., 1., 0., 1., 1., 1., 0., 1., 1., 0.])"
      ],
      "metadata": {
        "id": "RloxyFGxi4gL"
      },
      "execution_count": 46,
      "outputs": []
    },
    {
      "cell_type": "code",
      "source": [],
      "metadata": {
        "id": "aRmF1cBxmMUp"
      },
      "execution_count": 51,
      "outputs": []
    },
    {
      "cell_type": "code",
      "source": [
        "X_tensor = torch.from_numpy(X).float()\n",
        "Y_tensor = torch.from_numpy(Y).float().view(-1, 1)"
      ],
      "metadata": {
        "id": "WarDQwkSjKkH"
      },
      "execution_count": 47,
      "outputs": []
    },
    {
      "cell_type": "code",
      "source": [
        "class Model(nn.Module):\n",
        "    def __init__(self):\n",
        "        super(Model, self).__init__()\n",
        "        self.linear = nn.Linear(3, 1)\n",
        "\n",
        "    def forward(self, X):\n",
        "        return torch.sigmoid(self.linear(X))\n",
        "\n",
        "epochs = 20000\n",
        "learning_rate = 0.01\n",
        "criterion = nn.BCELoss()"
      ],
      "metadata": {
        "id": "uWC173BJjqC9"
      },
      "execution_count": 53,
      "outputs": []
    },
    {
      "cell_type": "code",
      "source": [
        "model = Model()\n",
        "optimizer = torch.optim.Adam(model.parameters(), lr=learning_rate)\n",
        "\n",
        "for epoch in range(epochs):\n",
        "    y_pred = model(X_tensor)\n",
        "    loss = criterion(y_pred, Y_tensor)\n",
        "    optimizer.zero_grad()\n",
        "    loss.backward()\n",
        "    optimizer.step()\n",
        "    if(epoch%1000==0):\n",
        "      print(f\"Epoch: {epoch + 1}, Loss: {loss.item()}\")"
      ],
      "metadata": {
        "colab": {
          "base_uri": "https://localhost:8080/"
        },
        "id": "rDYXt99akCqB",
        "outputId": "74416286-4579-4db5-8d22-3334d97dd84d"
      },
      "execution_count": 49,
      "outputs": [
        {
          "output_type": "stream",
          "name": "stdout",
          "text": [
            "Epoch: 1, Loss: 0.710456907749176\n",
            "Epoch: 1001, Loss: 0.10242152214050293\n",
            "Epoch: 2001, Loss: 0.06942824274301529\n",
            "Epoch: 3001, Loss: 0.053112778812646866\n",
            "Epoch: 4001, Loss: 0.042262330651283264\n",
            "Epoch: 5001, Loss: 0.03407048061490059\n",
            "Epoch: 6001, Loss: 0.027463681995868683\n",
            "Epoch: 7001, Loss: 0.02196069248020649\n",
            "Epoch: 8001, Loss: 0.017338337376713753\n",
            "Epoch: 9001, Loss: 0.013492055237293243\n",
            "Epoch: 10001, Loss: 0.010359818115830421\n",
            "Epoch: 11001, Loss: 0.007877068594098091\n",
            "Epoch: 12001, Loss: 0.005958575755357742\n",
            "Epoch: 13001, Loss: 0.004503182135522366\n",
            "Epoch: 14001, Loss: 0.0034093076828867197\n",
            "Epoch: 15001, Loss: 0.0025880890898406506\n",
            "Epoch: 16001, Loss: 0.00196898658759892\n",
            "Epoch: 17001, Loss: 0.0014993863878771663\n",
            "Epoch: 18001, Loss: 0.0011413008905947208\n",
            "Epoch: 19001, Loss: 0.0008675230201333761\n"
          ]
        }
      ]
    },
    {
      "cell_type": "code",
      "source": [
        "# Switch the model to evaluation mode\n",
        "model.eval()\n",
        "\n",
        "# Example input for prediction (ensure it's a tensor with the correct shape)\n",
        "X_test = torch.tensor([[ 0.59671415,  0.38778736, -1.60442766]], dtype=torch.float32)  # Example input\n",
        "\n",
        "# Perform prediction\n",
        "with torch.no_grad():  # Disable gradient computation for inference\n",
        "    y_pred = model(X_test)\n",
        "\n",
        "# Convert to binary class (0 or 1) using a threshold of 0.5\n",
        "y_pred_class = (y_pred >= 0.5).float()\n",
        "\n",
        "print(\"Predicted Probability:\", y_pred.item())\n",
        "print(\"Predicted Class:\", int(y_pred_class.item()))"
      ],
      "metadata": {
        "colab": {
          "base_uri": "https://localhost:8080/"
        },
        "id": "eBAZPfDTkVa5",
        "outputId": "bca19885-b876-40ea-c219-879de3ae1160"
      },
      "execution_count": 56,
      "outputs": [
        {
          "output_type": "stream",
          "name": "stdout",
          "text": [
            "Predicted Probability: 1.0\n",
            "Predicted Class: 1\n"
          ]
        }
      ]
    },
    {
      "cell_type": "markdown",
      "source": [
        "# Dataset that requires normalization"
      ],
      "metadata": {
        "id": "HAw4i45CuQqw"
      }
    },
    {
      "cell_type": "code",
      "source": [
        "import numpy as np\n",
        "import pandas as pd\n",
        "\n",
        "# Seed for reproducibility\n",
        "np.random.seed(42)\n",
        "\n",
        "# Number of samples\n",
        "n_samples = 200\n",
        "\n",
        "# Generating random features\n",
        "age = np.random.randint(18, 80, size=n_samples)  # Age between 18 and 80\n",
        "blood_pressure = np.random.randint(90, 180, size=n_samples)  # Blood pressure\n",
        "cholesterol = np.random.randint(150, 300, size=n_samples)  # Cholesterol levels\n",
        "heart_rate = np.random.randint(60, 100, size=n_samples)  # Heart rate\n",
        "bmi = np.random.uniform(18, 35, size=n_samples)  # BMI values\n",
        "\n",
        "# Generating labels (0: Non-Healthy, 1: Healthy)\n",
        "# Assuming some simple conditions for classification\n",
        "labels = np.where(\n",
        "    (blood_pressure < 120) & (cholesterol < 200) & (heart_rate < 80) & (bmi < 25), 1, 0\n",
        ")\n",
        "\n",
        "# Creating a DataFrame\n",
        "data = pd.DataFrame({\n",
        "    'Age': age,\n",
        "    'Blood Pressure': blood_pressure,\n",
        "    'Cholesterol': cholesterol,\n",
        "    'Heart Rate': heart_rate,\n",
        "    'BMI': bmi,\n",
        "    'Health Status': labels  # 1 for Healthy, 0 for Non-Healthy\n",
        "})\n",
        "\n",
        "# Displaying the first few rows of the dataset\n",
        "print(data.head())\n"
      ],
      "metadata": {
        "colab": {
          "base_uri": "https://localhost:8080/"
        },
        "id": "vVhgrnMnsOLu",
        "outputId": "b88ba313-1067-43bb-cfdb-8399b4b15350"
      },
      "execution_count": 62,
      "outputs": [
        {
          "output_type": "stream",
          "name": "stdout",
          "text": [
            "   Age  Blood Pressure  Cholesterol  Heart Rate        BMI  Health Status\n",
            "0   56             112          253          94  19.289677              0\n",
            "1   69             104          173          82  20.190955              0\n",
            "2   46             132          263          88  20.176779              0\n",
            "3   32             118          181          70  20.582346              1\n",
            "4   60             125          235          77  20.360062              0\n"
          ]
        }
      ]
    },
    {
      "cell_type": "code",
      "source": [
        "Y=data['Health Status'].values\n",
        "X=data[['Age','Blood Pressure', 'Cholesterol', 'Heart Rate', 'BMI']].values"
      ],
      "metadata": {
        "id": "oAeVEVKPsef_"
      },
      "execution_count": 74,
      "outputs": []
    },
    {
      "cell_type": "code",
      "source": [
        "X.shape"
      ],
      "metadata": {
        "colab": {
          "base_uri": "https://localhost:8080/"
        },
        "id": "Z5_YRS5dsxta",
        "outputId": "4d359dfa-30d2-46a3-e3f5-3b9fb04c943e"
      },
      "execution_count": 75,
      "outputs": [
        {
          "output_type": "execute_result",
          "data": {
            "text/plain": [
              "(200, 5)"
            ]
          },
          "metadata": {},
          "execution_count": 75
        }
      ]
    },
    {
      "cell_type": "code",
      "source": [
        "from sklearn.preprocessing import MinMaxScaler, StandardScaler\n",
        "\n",
        "min_max_scaler = MinMaxScaler()\n",
        "X_min_max_scaled = min_max_scaler.fit_transform(X)"
      ],
      "metadata": {
        "id": "g-Ku4wpWsOsU"
      },
      "execution_count": 76,
      "outputs": []
    },
    {
      "cell_type": "code",
      "source": [
        "X_tensor = torch.from_numpy(X_min_max_scaled).float()\n",
        "Y_tensor = torch.from_numpy(Y).float().view(-1, 1)"
      ],
      "metadata": {
        "id": "eAVj9XgHtGvm"
      },
      "execution_count": 77,
      "outputs": []
    },
    {
      "cell_type": "code",
      "source": [
        "class Model(nn.Module):\n",
        "    def __init__(self):\n",
        "        super(Model, self).__init__()\n",
        "        self.linear = nn.Linear(5, 1)\n",
        "\n",
        "    def forward(self, X):\n",
        "        return torch.sigmoid(self.linear(X))\n",
        "\n",
        "epochs = 20000\n",
        "learning_rate = 0.001\n",
        "criterion = nn.BCELoss()"
      ],
      "metadata": {
        "id": "SV_bSxZAtLTI"
      },
      "execution_count": 90,
      "outputs": []
    },
    {
      "cell_type": "code",
      "source": [
        "model = Model()\n",
        "optimizer = torch.optim.Adam(model.parameters(), lr=learning_rate)\n",
        "\n",
        "for epoch in range(epochs):\n",
        "    y_pred = model(X_tensor)\n",
        "    loss = criterion(y_pred, Y_tensor)\n",
        "    optimizer.zero_grad()\n",
        "    loss.backward()\n",
        "    optimizer.step()\n",
        "    if(epoch%1000==0):\n",
        "      print(f\"Epoch: {epoch + 1}, Loss: {loss.item()}\")"
      ],
      "metadata": {
        "colab": {
          "base_uri": "https://localhost:8080/"
        },
        "id": "8l4zGc5ttT5I",
        "outputId": "06ca960a-e148-4688-8f1a-07a1d03239c6"
      },
      "execution_count": 91,
      "outputs": [
        {
          "output_type": "stream",
          "name": "stdout",
          "text": [
            "Epoch: 1, Loss: 0.7779238224029541\n",
            "Epoch: 1001, Loss: 0.18893931806087494\n",
            "Epoch: 2001, Loss: 0.13927799463272095\n",
            "Epoch: 3001, Loss: 0.12887778878211975\n",
            "Epoch: 4001, Loss: 0.12211447954177856\n",
            "Epoch: 5001, Loss: 0.11423816531896591\n",
            "Epoch: 6001, Loss: 0.10559439659118652\n",
            "Epoch: 7001, Loss: 0.09728935360908508\n",
            "Epoch: 8001, Loss: 0.09013041853904724\n",
            "Epoch: 9001, Loss: 0.08436435461044312\n",
            "Epoch: 10001, Loss: 0.07992308586835861\n",
            "Epoch: 11001, Loss: 0.07669535279273987\n",
            "Epoch: 12001, Loss: 0.07452783733606339\n",
            "Epoch: 13001, Loss: 0.07319555431604385\n",
            "Epoch: 14001, Loss: 0.0724584311246872\n",
            "Epoch: 15001, Loss: 0.07210873812437057\n",
            "Epoch: 16001, Loss: 0.07198147475719452\n",
            "Epoch: 17001, Loss: 0.07195298373699188\n",
            "Epoch: 18001, Loss: 0.07195033878087997\n",
            "Epoch: 19001, Loss: 0.0719502791762352\n"
          ]
        }
      ]
    },
    {
      "cell_type": "code",
      "source": [
        "# Assuming you have your test data as X_test (raw test data)\n",
        "X_test = np.array([[20, 110, 100, 75, 20]])  # Example raw input for prediction\n",
        "\n",
        "# Apply Min-Max Scaling (using the scaler fitted on the training data)\n",
        "X_test_min_max_scaled = min_max_scaler.transform(X_test)\n",
        "\n",
        "\n",
        "\n",
        "# Convert the scaled test data to a tensor\n",
        "X_test_tensor = torch.from_numpy(X_test_min_max_scaled).float()  # Use standard scaling, or you could use min-max\n",
        "\n",
        "# Perform prediction\n",
        "model.eval()  # Switch the model to evaluation mode\n",
        "with torch.no_grad():  # Disable gradient computation for inference\n",
        "    y_pred = model(X_test_tensor)\n",
        "\n",
        "# Convert to binary class (0 or 1) using a threshold of 0.5\n",
        "y_pred_class = (y_pred >= 0.5).float()\n",
        "\n",
        "# Output the predicted probability and class\n",
        "print(\"Predicted Probability:\", y_pred.item())\n",
        "print(\"Predicted Class:\", int(y_pred_class.item()))"
      ],
      "metadata": {
        "colab": {
          "base_uri": "https://localhost:8080/"
        },
        "id": "w7YQn9TMtVsz",
        "outputId": "edf14f3b-6678-450e-ff96-f97d2df0bbe0"
      },
      "execution_count": 94,
      "outputs": [
        {
          "output_type": "stream",
          "name": "stdout",
          "text": [
            "Predicted Probability: 0.9292171597480774\n",
            "Predicted Class: 1\n"
          ]
        }
      ]
    },
    {
      "cell_type": "code",
      "source": [],
      "metadata": {
        "id": "1DjcRPE9uL0E"
      },
      "execution_count": null,
      "outputs": []
    }
  ]
}