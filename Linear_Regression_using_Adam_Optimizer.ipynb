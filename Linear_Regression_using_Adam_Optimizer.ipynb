{
  "nbformat": 4,
  "nbformat_minor": 0,
  "metadata": {
    "colab": {
      "provenance": [],
      "authorship_tag": "ABX9TyOC7JVIGSgGmYFJhc2pRL8P",
      "include_colab_link": true
    },
    "kernelspec": {
      "name": "python3",
      "display_name": "Python 3"
    },
    "language_info": {
      "name": "python"
    }
  },
  "cells": [
    {
      "cell_type": "markdown",
      "metadata": {
        "id": "view-in-github",
        "colab_type": "text"
      },
      "source": [
        "<a href=\"https://colab.research.google.com/github/developerabhi14/ML-Notebooks/blob/main/Linear_Regression_using_Adam_Optimizer.ipynb\" target=\"_parent\"><img src=\"https://colab.research.google.com/assets/colab-badge.svg\" alt=\"Open In Colab\"/></a>"
      ]
    },
    {
      "cell_type": "code",
      "execution_count": 48,
      "metadata": {
        "id": "vAuB3q-eThbF"
      },
      "outputs": [],
      "source": [
        "import torch\n",
        "import torch.nn as nn\n",
        "import numpy as np\n",
        "import pandas as pd"
      ]
    },
    {
      "cell_type": "code",
      "source": [
        "X=np.array([200, 300,400,500,600,700,800,900,1000,1100])\n",
        "Y=np.array([1000,1200,1300,1500,1750,1900,2100,2300,2500,2700])"
      ],
      "metadata": {
        "id": "ltgdmvP-TqTt"
      },
      "execution_count": 57,
      "outputs": []
    },
    {
      "cell_type": "code",
      "source": [
        "X_mean, X_std = X.mean(), X.std()\n",
        "X = (X - X_mean) / X_std  # Standardizing X\n",
        "Y = Y / 1000  # Scale Y instead of standardizing"
      ],
      "metadata": {
        "id": "gyYYmJ1gT-eR"
      },
      "execution_count": 58,
      "outputs": []
    },
    {
      "cell_type": "code",
      "source": [
        "X, Y"
      ],
      "metadata": {
        "colab": {
          "base_uri": "https://localhost:8080/"
        },
        "id": "9LTd7ydPUEa8",
        "outputId": "68881b75-73e6-4cda-bdfb-030df410f8ff"
      },
      "execution_count": 59,
      "outputs": [
        {
          "output_type": "execute_result",
          "data": {
            "text/plain": [
              "(array([-1.5666989 , -1.21854359, -0.87038828, -0.52223297, -0.17407766,\n",
              "         0.17407766,  0.52223297,  0.87038828,  1.21854359,  1.5666989 ]),\n",
              " array([1.  , 1.2 , 1.3 , 1.5 , 1.75, 1.9 , 2.1 , 2.3 , 2.5 , 2.7 ]))"
            ]
          },
          "metadata": {},
          "execution_count": 59
        }
      ]
    },
    {
      "cell_type": "code",
      "source": [
        "X_tensor = torch.from_numpy(X).float().view(-1, 1)\n",
        "Y_tensor = torch.from_numpy(Y).float().view(-1, 1)"
      ],
      "metadata": {
        "id": "xIEh3O5VVe34"
      },
      "execution_count": 60,
      "outputs": []
    },
    {
      "cell_type": "code",
      "source": [
        "X_tensor.shape, Y_tensor.shape"
      ],
      "metadata": {
        "colab": {
          "base_uri": "https://localhost:8080/"
        },
        "id": "v3HRvfNlVkKV",
        "outputId": "9c5b7f73-13ad-491d-d788-8d2b5534846e"
      },
      "execution_count": 61,
      "outputs": [
        {
          "output_type": "execute_result",
          "data": {
            "text/plain": [
              "(torch.Size([10, 1]), torch.Size([10, 1]))"
            ]
          },
          "metadata": {},
          "execution_count": 61
        }
      ]
    },
    {
      "cell_type": "code",
      "source": [
        "class Model(nn.Module):\n",
        "    def __init__(self):\n",
        "        super(Model, self).__init__()\n",
        "        self.linear = nn.Linear(1, 1)\n",
        "\n",
        "    def forward(self, X):\n",
        "        return self.linear(X)\n",
        "\n",
        "    def loss_function(self, Y_pred, Y):\n",
        "        mse_loss = nn.MSELoss()\n",
        "        return mse_loss(Y_pred, Y)\n"
      ],
      "metadata": {
        "id": "GWb2g5VCVnGS"
      },
      "execution_count": 62,
      "outputs": []
    },
    {
      "cell_type": "code",
      "source": [
        "epochs = 10000\n",
        "learning_rate = 0.001\n",
        "criterion = nn.MSELoss()"
      ],
      "metadata": {
        "id": "WDdAon5pVpAw"
      },
      "execution_count": 70,
      "outputs": []
    },
    {
      "cell_type": "code",
      "source": [
        "model = Model()\n",
        "optimizer = torch.optim.Adam(model.parameters(), lr=learning_rate)\n",
        "\n",
        "for epoch in range(epochs):\n",
        "    y_pred = model(X_tensor)\n",
        "    loss = criterion(y_pred, Y_tensor)\n",
        "    optimizer.zero_grad()\n",
        "    loss.backward()\n",
        "    optimizer.step()\n",
        "    if(epoch%200==0):\n",
        "      print(f\"Epoch: {epoch + 1}, Loss: {loss.item()}\")"
      ],
      "metadata": {
        "colab": {
          "base_uri": "https://localhost:8080/"
        },
        "id": "lJMsMJjrVqsw",
        "outputId": "091bc45c-e276-488c-8302-a19fd3cc45d9"
      },
      "execution_count": 71,
      "outputs": [
        {
          "output_type": "stream",
          "name": "stdout",
          "text": [
            "Epoch: 1, Loss: 7.405107021331787\n",
            "Epoch: 201, Loss: 6.047852039337158\n",
            "Epoch: 401, Loss: 4.903712272644043\n",
            "Epoch: 601, Loss: 3.946653366088867\n",
            "Epoch: 801, Loss: 3.1520471572875977\n",
            "Epoch: 1001, Loss: 2.4971678256988525\n",
            "Epoch: 1201, Loss: 1.9612150192260742\n",
            "Epoch: 1401, Loss: 1.5254312753677368\n",
            "Epoch: 1601, Loss: 1.1732546091079712\n",
            "Epoch: 1801, Loss: 0.8904315829277039\n",
            "Epoch: 2001, Loss: 0.6650069355964661\n",
            "Epoch: 2201, Loss: 0.4871291518211365\n",
            "Epoch: 2401, Loss: 0.34870103001594543\n",
            "Epoch: 2601, Loss: 0.24295976758003235\n",
            "Epoch: 2801, Loss: 0.1640959531068802\n",
            "Epoch: 3001, Loss: 0.10697480291128159\n",
            "Epoch: 3201, Loss: 0.06702889502048492\n",
            "Epoch: 3401, Loss: 0.040215373039245605\n",
            "Epoch: 3601, Loss: 0.0230450127273798\n",
            "Epoch: 3801, Loss: 0.012627199292182922\n",
            "Epoch: 4001, Loss: 0.006681270897388458\n",
            "Epoch: 4201, Loss: 0.0035137427039444447\n",
            "Epoch: 4401, Loss: 0.0019519098568707705\n",
            "Epoch: 4601, Loss: 0.0012455424293875694\n",
            "Epoch: 4801, Loss: 0.0009554304997436702\n",
            "Epoch: 5001, Loss: 0.0008483284036628902\n",
            "Epoch: 5201, Loss: 0.0008132293005473912\n",
            "Epoch: 5401, Loss: 0.0008031416800804436\n",
            "Epoch: 5601, Loss: 0.0008006390416994691\n",
            "Epoch: 5801, Loss: 0.0008001098176464438\n",
            "Epoch: 6001, Loss: 0.0008000157540664077\n",
            "Epoch: 6201, Loss: 0.0008000038797035813\n",
            "Epoch: 6401, Loss: 0.0008000017260201275\n",
            "Epoch: 6601, Loss: 0.0008000022498890758\n",
            "Epoch: 6801, Loss: 0.0008000017260201275\n",
            "Epoch: 7001, Loss: 0.0008000010857358575\n",
            "Epoch: 7201, Loss: 0.0008000023663043976\n",
            "Epoch: 7401, Loss: 0.0008000017842277884\n",
            "Epoch: 7601, Loss: 0.0008000024827197194\n",
            "Epoch: 7801, Loss: 0.0008000023663043976\n",
            "Epoch: 8001, Loss: 0.0008000017260201275\n",
            "Epoch: 8201, Loss: 0.0008000013185665011\n",
            "Epoch: 8401, Loss: 0.0008000021916814148\n",
            "Epoch: 8601, Loss: 0.0008000016096048057\n",
            "Epoch: 8801, Loss: 0.0008000016096048057\n",
            "Epoch: 9001, Loss: 0.0008000011439435184\n",
            "Epoch: 9201, Loss: 0.0008000023663043976\n",
            "Epoch: 9401, Loss: 0.0008000001544132829\n",
            "Epoch: 9601, Loss: 0.0008000009693205357\n",
            "Epoch: 9801, Loss: 0.0008000017260201275\n"
          ]
        }
      ]
    },
    {
      "cell_type": "code",
      "source": [
        "# Function to make predictions\n",
        "def predict(model, X_new):\n",
        "    X_new = (X_new - X_mean) / X_std  # Apply the same normalization as training\n",
        "    X_new_tensor = torch.tensor(X_new, dtype=torch.float32).view(-1, 1)\n",
        "    Y_pred_scaled = model(X_new_tensor).detach().numpy()  # Get prediction\n",
        "    Y_pred = Y_pred_scaled * 1000  # Reverse scaling\n",
        "    return Y_pred\n",
        "\n",
        "# Example: Predict prices for new areas\n",
        "X_test = np.array([1200, 1300, 950, 1050])\n",
        "predictions = predict(model, X_test)\n",
        "\n",
        "print(predictions)"
      ],
      "metadata": {
        "colab": {
          "base_uri": "https://localhost:8080/"
        },
        "id": "TLL-kLccVtJK",
        "outputId": "ef40218a-a9b0-4b68-f06d-1a264f85856a"
      },
      "execution_count": 74,
      "outputs": [
        {
          "output_type": "stream",
          "name": "stdout",
          "text": [
            "[[2869.998]\n",
            " [3059.998]\n",
            " [2394.998]\n",
            " [2584.998]]\n"
          ]
        }
      ]
    },
    {
      "cell_type": "code",
      "source": [],
      "metadata": {
        "id": "5TeNtUdUZJcX"
      },
      "execution_count": null,
      "outputs": []
    }
  ]
}