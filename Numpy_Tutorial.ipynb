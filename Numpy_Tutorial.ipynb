{
  "nbformat": 4,
  "nbformat_minor": 0,
  "metadata": {
    "colab": {
      "provenance": [],
      "authorship_tag": "ABX9TyPXcDoRW1y7gD48WTDmp9wD",
      "include_colab_link": true
    },
    "kernelspec": {
      "name": "python3",
      "display_name": "Python 3"
    },
    "language_info": {
      "name": "python"
    }
  },
  "cells": [
    {
      "cell_type": "markdown",
      "metadata": {
        "id": "view-in-github",
        "colab_type": "text"
      },
      "source": [
        "<a href=\"https://colab.research.google.com/github/developerabhi14/ML-Notebooks/blob/main/Numpy_Tutorial.ipynb\" target=\"_parent\"><img src=\"https://colab.research.google.com/assets/colab-badge.svg\" alt=\"Open In Colab\"/></a>"
      ]
    },
    {
      "cell_type": "code",
      "execution_count": 1,
      "metadata": {
        "id": "tbz1f2vHnNT7"
      },
      "outputs": [],
      "source": [
        "# importing numpy\n",
        "import numpy as np"
      ]
    },
    {
      "cell_type": "code",
      "source": [
        "# Create array using python list\n",
        "lists=[1,2,3,4]\n",
        "print(lists)\n",
        "print(type(lists))\n",
        "\n",
        "print(\"\\n\")\n",
        "\n",
        "# create a array from list\n",
        "array1=np.array(lists)\n",
        "print(array1)\n",
        "print(type(array1))"
      ],
      "metadata": {
        "colab": {
          "base_uri": "https://localhost:8080/"
        },
        "id": "sKT-lUmwnUvW",
        "outputId": "22d17594-48ff-4a59-8fc9-677aa1191e10"
      },
      "execution_count": 5,
      "outputs": [
        {
          "output_type": "stream",
          "name": "stdout",
          "text": [
            "[1, 2, 3, 4]\n",
            "<class 'list'>\n",
            "\n",
            "\n",
            "[1 2 3 4]\n",
            "<class 'numpy.ndarray'>\n"
          ]
        }
      ]
    },
    {
      "cell_type": "code",
      "source": [
        "# We can also createa numpy array directly using a list\n",
        "array1=np.array([1,2,3,4])\n",
        "print(array1)\n",
        "print(type(array1))"
      ],
      "metadata": {
        "colab": {
          "base_uri": "https://localhost:8080/"
        },
        "id": "dBd-8bwznqWs",
        "outputId": "b13db1e9-bef2-449c-d84b-1903b714e6ae"
      },
      "execution_count": 6,
      "outputs": [
        {
          "output_type": "stream",
          "name": "stdout",
          "text": [
            "[1 2 3 4]\n",
            "<class 'numpy.ndarray'>\n"
          ]
        }
      ]
    },
    {
      "cell_type": "code",
      "source": [
        "# Create an array using np.zeros()\n",
        "array1=np.zeros(4)\n",
        "print(array1)"
      ],
      "metadata": {
        "colab": {
          "base_uri": "https://localhost:8080/"
        },
        "id": "P3HoVN40n44z",
        "outputId": "09255fa8-c50b-41dc-cfd8-36de09b0b0fd"
      },
      "execution_count": 7,
      "outputs": [
        {
          "output_type": "stream",
          "name": "stdout",
          "text": [
            "[0. 0. 0. 0.]\n"
          ]
        }
      ]
    },
    {
      "cell_type": "code",
      "source": [
        "# Create array with np.arange()\n",
        "\n",
        "# Creating array with values from 0 to 4\n",
        "array1=np.arange(5)\n",
        "print(array1)\n",
        ""
      ],
      "metadata": {
        "colab": {
          "base_uri": "https://localhost:8080/"
        },
        "id": "-2pGJRVgoA8d",
        "outputId": "b63f2bb2-643b-453e-b834-9e88fa42f308"
      },
      "execution_count": 9,
      "outputs": [
        {
          "output_type": "stream",
          "name": "stdout",
          "text": [
            "[0 1 2 3 4]\n"
          ]
        }
      ]
    },
    {
      "cell_type": "code",
      "source": [
        "# create an array with values from 1 to 8 with step of 2\n",
        "array2=np.arange(1,9,2)\n",
        "print(array2)"
      ],
      "metadata": {
        "colab": {
          "base_uri": "https://localhost:8080/"
        },
        "id": "TaXDvdNloN3h",
        "outputId": "51cc3ffb-5420-4624-b290-d1f29ba99ef1"
      },
      "execution_count": 10,
      "outputs": [
        {
          "output_type": "stream",
          "name": "stdout",
          "text": [
            "[1 3 5 7]\n"
          ]
        }
      ]
    },
    {
      "cell_type": "code",
      "source": [
        "# Create an array with np.random.rand()\n",
        "\n",
        "array1=np.random.rand(5)\n",
        "print(array1)"
      ],
      "metadata": {
        "colab": {
          "base_uri": "https://localhost:8080/"
        },
        "id": "PNlWewsvoWJs",
        "outputId": "8c021b43-76f0-43bc-df59-0ff09193a270"
      },
      "execution_count": 12,
      "outputs": [
        {
          "output_type": "stream",
          "name": "stdout",
          "text": [
            "[0.16320721 0.21092746 0.79971747 0.7859732  0.15832018]\n"
          ]
        }
      ]
    },
    {
      "cell_type": "code",
      "source": [
        "# Create an empty array\n",
        "array1=np.empty(4)\n",
        "print(array1)"
      ],
      "metadata": {
        "colab": {
          "base_uri": "https://localhost:8080/"
        },
        "id": "t9Vn6V8_ohwT",
        "outputId": "744399a5-09af-43c6-8e70-fe8d2a25b99e"
      },
      "execution_count": 13,
      "outputs": [
        {
          "output_type": "stream",
          "name": "stdout",
          "text": [
            "[4.9e-324 9.9e-324 1.5e-323 2.0e-323]\n"
          ]
        }
      ]
    },
    {
      "cell_type": "markdown",
      "source": [
        "# Python N-D array creation"
      ],
      "metadata": {
        "id": "G8HM2ZOqosW1"
      }
    },
    {
      "cell_type": "code",
      "source": [
        "# Create a 2D array with 2 rows and 4 columns\n",
        "\n",
        "array1=np.array([[1,2,3,4],[5,6,7,8]])\n",
        "print(array1)"
      ],
      "metadata": {
        "colab": {
          "base_uri": "https://localhost:8080/"
        },
        "id": "_ogZHirLopCI",
        "outputId": "aa276f07-4075-4060-f025-d4690f2d4800"
      },
      "execution_count": 14,
      "outputs": [
        {
          "output_type": "stream",
          "name": "stdout",
          "text": [
            "[[1 2 3 4]\n",
            " [5 6 7 8]]\n"
          ]
        }
      ]
    },
    {
      "cell_type": "code",
      "source": [
        "# Create a 3D array with 3 rows and 4 columns with 2 slices\n",
        "array1=np.array([[[1,2,3,4],\n",
        "                   [5,6,7,8],\n",
        "                  [9,10,11,12]],\n",
        "                 [[13,14,15,16],\n",
        "                  [17,18,19,20],\n",
        "                  [21,22,23,24]]])\n",
        "print(array1)"
      ],
      "metadata": {
        "colab": {
          "base_uri": "https://localhost:8080/"
        },
        "id": "CyfAqQyVo33-",
        "outputId": "aed8e567-0e98-465b-e045-1468a84084d0"
      },
      "execution_count": 15,
      "outputs": [
        {
          "output_type": "stream",
          "name": "stdout",
          "text": [
            "[[[ 1  2  3  4]\n",
            "  [ 5  6  7  8]\n",
            "  [ 9 10 11 12]]\n",
            "\n",
            " [[13 14 15 16]\n",
            "  [17 18 19 20]\n",
            "  [21 22 23 24]]]\n"
          ]
        }
      ]
    },
    {
      "cell_type": "code",
      "source": [
        "# Create N-D Arrays using np.zeros()\n",
        "\n",
        "# create 2D array with 2 rows and 3 columns filled with zeros\n",
        "array1 = np.zeros((2, 3))\n",
        "\n",
        "print(\"2-D Array: \")\n",
        "print(array1)\n",
        "\n",
        "# create 3D array with dimensions 2x3x4 filled with zeros\n",
        "array2 = np.zeros((2, 3, 4))\n",
        "\n",
        "print(\"\\n3-D Array: \")\n",
        "print(array2)"
      ],
      "metadata": {
        "colab": {
          "base_uri": "https://localhost:8080/"
        },
        "id": "jMpC7cQUpZSg",
        "outputId": "bb126010-5b19-4789-ca34-e0364fca3f76"
      },
      "execution_count": 16,
      "outputs": [
        {
          "output_type": "stream",
          "name": "stdout",
          "text": [
            "2-D Array: \n",
            "[[0. 0. 0.]\n",
            " [0. 0. 0.]]\n",
            "\n",
            "3-D Array: \n",
            "[[[0. 0. 0. 0.]\n",
            "  [0. 0. 0. 0.]\n",
            "  [0. 0. 0. 0.]]\n",
            "\n",
            " [[0. 0. 0. 0.]\n",
            "  [0. 0. 0. 0.]\n",
            "  [0. 0. 0. 0.]]]\n"
          ]
        }
      ]
    },
    {
      "cell_type": "code",
      "source": [
        "# Create N-D Array with a Specified Value\n",
        "\n",
        "# Create a 2-D array with elements initialized to 5\n",
        "numpy_array = np.full((2, 2), 5)\n",
        "\n",
        "print(\"Array:\", numpy_array)"
      ],
      "metadata": {
        "colab": {
          "base_uri": "https://localhost:8080/"
        },
        "id": "4T2S-sjmr5ej",
        "outputId": "ebce3054-792d-4753-91e4-0ecf739446ba"
      },
      "execution_count": 17,
      "outputs": [
        {
          "output_type": "stream",
          "name": "stdout",
          "text": [
            "Array: [[5 5]\n",
            " [5 5]]\n"
          ]
        }
      ]
    },
    {
      "cell_type": "code",
      "source": [
        "# Creating Arrays With np.random.rand()\n",
        "\n",
        "# create a 2D array of 2 rows and 2 columns of random numbers\n",
        "array1 = np.random.rand(2, 2)\n",
        "\n",
        "\n",
        "print(\"2-D Array: \")\n",
        "print(array1)\n",
        "\n",
        "# create a 3D array of shape (2, 2, 2) of random numbers\n",
        "array2 = np.random.rand(2, 2, 2)\n",
        "\n",
        "\n",
        "print(\"\\n3-D Array: \")\n",
        "print(array2)"
      ],
      "metadata": {
        "colab": {
          "base_uri": "https://localhost:8080/"
        },
        "id": "y26GpqKYsAzD",
        "outputId": "b3f03f57-8ea7-4603-8e63-43e8ae9e46f3"
      },
      "execution_count": 18,
      "outputs": [
        {
          "output_type": "stream",
          "name": "stdout",
          "text": [
            "2-D Array: \n",
            "[[0.64647936 0.80604045]\n",
            " [0.2482399  0.33628917]]\n",
            "\n",
            "3-D Array: \n",
            "[[[0.61937061 0.27020043]\n",
            "  [0.12518898 0.14290313]]\n",
            "\n",
            " [[0.43935413 0.83388756]\n",
            "  [0.40379773 0.67097859]]]\n"
          ]
        }
      ]
    },
    {
      "cell_type": "code",
      "source": [
        "# Create Empty N-D NumPy Array\n",
        "\n",
        "# create an empty 2D array with 2 rows and 2 columns\n",
        "array1 = np.empty((2, 2))\n",
        "\n",
        "\n",
        "print(\"2-D Array: \")\n",
        "print(array1)\n",
        "\n",
        "# create an empty 3D array of shape (2, 2, 2)\n",
        "array2 = np.empty((2, 2, 2))\n",
        "\n",
        "\n",
        "print(\"\\n3-D Array: \")\n",
        "print(array2)"
      ],
      "metadata": {
        "colab": {
          "base_uri": "https://localhost:8080/"
        },
        "id": "4J2mwTvtsFXb",
        "outputId": "352b50d6-171d-46a2-9ade-c3d891b61035"
      },
      "execution_count": 19,
      "outputs": [
        {
          "output_type": "stream",
          "name": "stdout",
          "text": [
            "2-D Array: \n",
            "[[0.64647936 0.80604045]\n",
            " [0.2482399  0.33628917]]\n",
            "\n",
            "3-D Array: \n",
            "[[[0.61937061 0.27020043]\n",
            "  [0.12518898 0.14290313]]\n",
            "\n",
            " [[0.43935413 0.83388756]\n",
            "  [0.40379773 0.67097859]]]\n"
          ]
        }
      ]
    },
    {
      "cell_type": "markdown",
      "source": [
        "# Numpy Data Types"
      ],
      "metadata": {
        "id": "xDTcgLcMsPvG"
      }
    },
    {
      "cell_type": "code",
      "source": [
        "# Check Data Type of a NumPy Array\n",
        "\n",
        "# create an array of integers\n",
        "array1 = np.array([2, 4, 6])\n",
        "\n",
        "# check the data type of array1\n",
        "print(array1.dtype)\n"
      ],
      "metadata": {
        "colab": {
          "base_uri": "https://localhost:8080/"
        },
        "id": "0cdFYVpFsLei",
        "outputId": "7232f4c6-7114-420a-aca1-20f18f08204e"
      },
      "execution_count": 20,
      "outputs": [
        {
          "output_type": "stream",
          "name": "stdout",
          "text": [
            "int64\n"
          ]
        }
      ]
    },
    {
      "cell_type": "code",
      "source": [
        "# create an array of  integers\n",
        "int_array = np.array([-3, -1, 0, 1])\n",
        "\n",
        "# create an array of floating-point numbers\n",
        "float_array = np.array([0.1, 0.2, 0.3])\n",
        "\n",
        "# create an array of complex numbers\n",
        "complex_array = np.array([1+2j, 2+3j, 3+4j])\n",
        "\n",
        "# check the data type of int_array\n",
        "print(int_array.dtype)  # prints int64\n",
        "\n",
        "# check the data type of float_array\n",
        "print(float_array.dtype)  # prints float64\n",
        "\n",
        "# check the data type of complex_array\n",
        "print(complex_array.dtype)  # prints complex128"
      ],
      "metadata": {
        "colab": {
          "base_uri": "https://localhost:8080/"
        },
        "id": "3ZXQjhK4sXyQ",
        "outputId": "f966a5a7-3b4a-4732-c437-3c828afda7ef"
      },
      "execution_count": 21,
      "outputs": [
        {
          "output_type": "stream",
          "name": "stdout",
          "text": [
            "int64\n",
            "float64\n",
            "complex128\n"
          ]
        }
      ]
    },
    {
      "cell_type": "code",
      "source": [
        "# Creating NumPy Arrays With a Defined Data Type\n",
        "\n",
        "# create an array of 32-bit integers\n",
        "array1 = np.array([1, 3, 7], dtype='int32')\n",
        "\n",
        "print(array1, array1.dtype)"
      ],
      "metadata": {
        "colab": {
          "base_uri": "https://localhost:8080/"
        },
        "id": "k8nvs-FKsbex",
        "outputId": "cb024afb-bdf9-475c-c5a2-368d3e6edb12"
      },
      "execution_count": 22,
      "outputs": [
        {
          "output_type": "stream",
          "name": "stdout",
          "text": [
            "[1 3 7] int32\n"
          ]
        }
      ]
    },
    {
      "cell_type": "code",
      "source": [
        "# create an array of 8-bit integers\n",
        "array1 = np.array([1, 3, 7], dtype='int8')\n",
        "\n",
        "# create an array of unsigned 16-bit integers\n",
        "array2 = np.array([2, 4, 6], dtype='uint16')\n",
        "\n",
        "# create an array of 32-bit floating-point numbers\n",
        "array3 = np.array([1.2, 2.3, 3.4], dtype='float32')\n",
        "\n",
        "# create an array of 64-bit complex numbers\n",
        "array4 = np.array([1+2j, 2+3j, 3+4j], dtype='complex64')\n",
        "\n",
        "# print the arrays and their data types\n",
        "print(array1, array1.dtype)\n",
        "print(array2, array2.dtype)\n",
        "print(array3, array3.dtype)\n",
        "print(array4, array4.dtype)"
      ],
      "metadata": {
        "colab": {
          "base_uri": "https://localhost:8080/"
        },
        "id": "n10z_YOWshXQ",
        "outputId": "c40d7c32-2185-48f1-96ba-5e008c96a0e8"
      },
      "execution_count": 23,
      "outputs": [
        {
          "output_type": "stream",
          "name": "stdout",
          "text": [
            "[1 3 7] int8\n",
            "[2 4 6] uint16\n",
            "[1.2 2.3 3.4] float32\n",
            "[1.+2.j 2.+3.j 3.+4.j] complex64\n"
          ]
        }
      ]
    },
    {
      "cell_type": "code",
      "source": [
        "# NumPy Type Conversion\n",
        "\n",
        "# create an array of integers\n",
        "int_array = np.array([1, 3, 5, 7])\n",
        "\n",
        "# convert data type of int_array to float\n",
        "float_array = int_array.astype('float')\n",
        "\n",
        "# print the arrays and their data types\n",
        "print(int_array, int_array.dtype)\n",
        "print(float_array, float_array.dtype)"
      ],
      "metadata": {
        "colab": {
          "base_uri": "https://localhost:8080/"
        },
        "id": "_eyPpO1oskPq",
        "outputId": "59101312-3b27-43af-f877-23ca5630f86b"
      },
      "execution_count": 24,
      "outputs": [
        {
          "output_type": "stream",
          "name": "stdout",
          "text": [
            "[1 3 5 7] int64\n",
            "[1. 3. 5. 7.] float64\n"
          ]
        }
      ]
    },
    {
      "cell_type": "markdown",
      "source": [
        "# Access Array Elements Using Index"
      ],
      "metadata": {
        "id": "l1Olvgr_syfp"
      }
    },
    {
      "cell_type": "code",
      "source": [
        "array1 = np.array([1, 3, 5, 7, 9])\n",
        "\n",
        "# access numpy elements using index\n",
        "print(array1[0])    # prints 1\n",
        "print(array1[2])    # prints 5\n",
        "print(array1[4])    # prints 9\n"
      ],
      "metadata": {
        "colab": {
          "base_uri": "https://localhost:8080/"
        },
        "id": "KMIg1FJHspD_",
        "outputId": "3a2901dc-e672-4ed9-c0be-e94e61de7cb0"
      },
      "execution_count": 25,
      "outputs": [
        {
          "output_type": "stream",
          "name": "stdout",
          "text": [
            "1\n",
            "5\n",
            "9\n"
          ]
        }
      ]
    },
    {
      "cell_type": "code",
      "source": [
        "# Modify array elements using index\n",
        "\n",
        "# create a numpy array\n",
        "numbers = np.array([2, 4, 6, 8, 10])\n",
        "\n",
        "# change the value of the first element\n",
        "numbers[0] = 12\n",
        "print(\"After modifying first element:\",numbers)    # prints [12 4 6 8 10]\n",
        "\n",
        "# change the value of the third element\n",
        "numbers[2] = 14\n",
        "print(\"After modifying third element:\",numbers)    # prints [12 4 14 8 10]"
      ],
      "metadata": {
        "colab": {
          "base_uri": "https://localhost:8080/"
        },
        "id": "bBFUVvcGs0-F",
        "outputId": "e83d31ff-0b92-4d8a-d26f-c39e83a1f00d"
      },
      "execution_count": 26,
      "outputs": [
        {
          "output_type": "stream",
          "name": "stdout",
          "text": [
            "After modifying first element: [12  4  6  8 10]\n",
            "After modifying third element: [12  4 14  8 10]\n"
          ]
        }
      ]
    },
    {
      "cell_type": "code",
      "source": [
        "# NumPy Negative Array Indexing\n",
        "\n",
        "# create a numpy array\n",
        "numbers = np.array([1, 3, 5, 7, 9])\n",
        "\n",
        "# access the last element\n",
        "print(numbers[-1])    # prints 9\n",
        "\n",
        "# access the second-to-last element\n",
        "print(numbers[-2])    # prints 7"
      ],
      "metadata": {
        "colab": {
          "base_uri": "https://localhost:8080/"
        },
        "id": "iFAGpBINs5NO",
        "outputId": "04bcaf0b-838b-4797-e97f-1f552e3288df"
      },
      "execution_count": 27,
      "outputs": [
        {
          "output_type": "stream",
          "name": "stdout",
          "text": [
            "9\n",
            "7\n"
          ]
        }
      ]
    },
    {
      "cell_type": "code",
      "source": [
        "# Modify Array Elements Using Negative Indexing\n",
        "\n",
        "# create a numpy array\n",
        "numbers = np.array([2, 3, 5, 7, 11])\n",
        "\n",
        "# modify the last element\n",
        "numbers[-1] = 13\n",
        "print(numbers)    # Output: [2 3 5 7 13]\n",
        "\n",
        "# modify the second-to-last element\n",
        "numbers[-2] = 17\n",
        "print(numbers)"
      ],
      "metadata": {
        "colab": {
          "base_uri": "https://localhost:8080/"
        },
        "id": "-tsJGvovs-AL",
        "outputId": "9250e08d-806e-4b34-9da6-4088012b8d8a"
      },
      "execution_count": 28,
      "outputs": [
        {
          "output_type": "stream",
          "name": "stdout",
          "text": [
            "[ 2  3  5  7 13]\n",
            "[ 2  3  5 17 13]\n"
          ]
        }
      ]
    },
    {
      "cell_type": "code",
      "source": [
        "# 2-D NumPy Array Indexing"
      ],
      "metadata": {
        "id": "onSBg8dmtDdF"
      },
      "execution_count": 29,
      "outputs": []
    },
    {
      "cell_type": "code",
      "source": [
        "array1 = np.array([[1, 3, 5],\n",
        "                     [7, 9, 2],\n",
        "                     [4, 6, 8]])\n",
        "\n",
        "array1[2, 1] # returns 6"
      ],
      "metadata": {
        "colab": {
          "base_uri": "https://localhost:8080/"
        },
        "id": "h6OKUefitITB",
        "outputId": "6ed8d38b-ae72-499d-abf8-3868f1944bb8"
      },
      "execution_count": 30,
      "outputs": [
        {
          "output_type": "execute_result",
          "data": {
            "text/plain": [
              "np.int64(6)"
            ]
          },
          "metadata": {},
          "execution_count": 30
        }
      ]
    },
    {
      "cell_type": "code",
      "source": [
        "# create a 2D array\n",
        "array1 = np.array([[1, 3, 5, 7],\n",
        "                       [9, 11, 13, 15],\n",
        "                       [2, 4, 6, 8]])\n",
        "\n",
        "\n",
        "# access the element at the second row and fourth column\n",
        "element1 = array1[1, 3]  # returns 15\n",
        "print(\"4th Element at 2nd Row:\",element1)\n",
        "\n",
        "# access the element at the first row and second column\n",
        "element2 = array1[0, 1]  # returns 3\n",
        "print(\"2nd Element at First Row:\",element2)"
      ],
      "metadata": {
        "colab": {
          "base_uri": "https://localhost:8080/"
        },
        "id": "KyPbNeYwtLBr",
        "outputId": "3408e7da-0960-4a83-f7c3-dab97b8cbfd5"
      },
      "execution_count": 31,
      "outputs": [
        {
          "output_type": "stream",
          "name": "stdout",
          "text": [
            "4th Element at 2nd Row: 15\n",
            "2nd Element at First Row: 3\n"
          ]
        }
      ]
    },
    {
      "cell_type": "code",
      "source": [
        "# Access Row or Column of 2D Array Using Indexing\n",
        "\n",
        "# create a 2D array\n",
        "array1 = np.array([[1, 3, 5],\n",
        "             [7, 9, 2],\n",
        "             [4, 6, 8]])\n",
        "\n",
        "# access the second row of the array\n",
        "second_row = array1[1, :]\n",
        "print(\"Second Row:\", second_row)  # Output: [7 9 2]\n",
        "\n",
        "# access the third column of the array\n",
        "third_col = array1[:, 2]\n",
        "print(\"Third Column:\", third_col)  # Output: [5 2 8]"
      ],
      "metadata": {
        "colab": {
          "base_uri": "https://localhost:8080/"
        },
        "id": "qZTpMq_suQAq",
        "outputId": "9b4904fb-0e86-4c0f-b64c-259724d7f389"
      },
      "execution_count": 32,
      "outputs": [
        {
          "output_type": "stream",
          "name": "stdout",
          "text": [
            "Second Row: [7 9 2]\n",
            "Third Column: [5 2 8]\n"
          ]
        }
      ]
    },
    {
      "cell_type": "code",
      "source": [
        "# 3-D NumPy Array Indexing\n",
        "\n",
        "# create a 3D array with shape (2, 3, 4)\n",
        "array1 = np.array([[[1, 2, 3, 4],\n",
        "                   [5, 6, 7, 8],\n",
        "                   [9, 10, 11, 12]],\n",
        "\n",
        "                    [[13, 14, 15, 16],\n",
        "                    [17, 18, 19, 20],\n",
        "                    [21, 22, 23, 24]]])\n",
        "\n",
        "# access a specific element of the array\n",
        "element = array1[1, 2, 1]\n",
        "\n",
        "# print the value of the element\n",
        "print(element)"
      ],
      "metadata": {
        "colab": {
          "base_uri": "https://localhost:8080/"
        },
        "id": "T3IrEMznuX5w",
        "outputId": "f697dcc9-4eea-4547-e4ca-f11f1bedaf36"
      },
      "execution_count": 33,
      "outputs": [
        {
          "output_type": "stream",
          "name": "stdout",
          "text": [
            "22\n"
          ]
        }
      ]
    },
    {
      "cell_type": "markdown",
      "source": [
        "# Numpy Array Slicing"
      ],
      "metadata": {
        "id": "EdmX3IoLuoED"
      }
    },
    {
      "cell_type": "code",
      "source": [
        "# 1D NumPy Array Slicing\n",
        "\n",
        "# create a 1D array\n",
        "array1 = np.array([1, 3, 5, 7, 8, 9, 2, 4, 6])\n",
        "\n",
        "# slice array1 from index 2 to index 6 (exclusive)\n",
        "print(array1[2:6])  # [5 7 8 9]\n",
        "\n",
        "# slice array1 from index 0 to index 8 (exclusive) with a step size of 2\n",
        "print(array1[0:8:2])  # [1 5 8 2]\n",
        "\n",
        "# slice array1 from index 3 up to the last element\n",
        "print(array1[3:])  # [7 8 9 2 4 6]\n",
        "\n",
        "# items from start to end\n",
        "print(array1[:])   # [1 3 5 7 8 9 2 4 6]"
      ],
      "metadata": {
        "colab": {
          "base_uri": "https://localhost:8080/"
        },
        "id": "Woih_DcVulUh",
        "outputId": "a6cbe2fd-ec2d-49a7-d535-5c6b5f04fd79"
      },
      "execution_count": 34,
      "outputs": [
        {
          "output_type": "stream",
          "name": "stdout",
          "text": [
            "[5 7 8 9]\n",
            "[1 5 8 2]\n",
            "[7 8 9 2 4 6]\n",
            "[1 3 5 7 8 9 2 4 6]\n"
          ]
        }
      ]
    },
    {
      "cell_type": "code",
      "source": [
        "# Modify Array Elements Using Slicing\n",
        "\n",
        "# 1. Using start parameter\n",
        "\n",
        "# create a numpy array\n",
        "numbers = np.array([2, 4, 6, 8, 10, 12])\n",
        "\n",
        "# modify elements from index 3 onwards\n",
        "numbers[3:] = 20\n",
        "print(numbers)\n"
      ],
      "metadata": {
        "colab": {
          "base_uri": "https://localhost:8080/"
        },
        "id": "JtMOo3Cvu2Na",
        "outputId": "302424a2-b584-4d60-adc8-0dfc2020fe2f"
      },
      "execution_count": 35,
      "outputs": [
        {
          "output_type": "stream",
          "name": "stdout",
          "text": [
            "[ 2  4  6 20 20 20]\n"
          ]
        }
      ]
    },
    {
      "cell_type": "code",
      "source": [
        "# 2. Using stop parameter\n",
        "# create a numpy array\n",
        "numbers = np.array([2, 4, 6, 8, 10, 12])\n",
        "\n",
        "# modify the first 3 elements\n",
        "numbers[:3] = 40\n",
        "print(numbers)\n"
      ],
      "metadata": {
        "colab": {
          "base_uri": "https://localhost:8080/"
        },
        "id": "jK5zGSFKvAcU",
        "outputId": "a41bc098-3a5f-4530-d77a-cb22ca4278a5"
      },
      "execution_count": 36,
      "outputs": [
        {
          "output_type": "stream",
          "name": "stdout",
          "text": [
            "[40 40 40  8 10 12]\n"
          ]
        }
      ]
    },
    {
      "cell_type": "code",
      "source": [
        "# 3. Using start and stop parameter\n",
        "\n",
        "# create a numpy array\n",
        "numbers = np.array([2, 4, 6, 8, 10, 12])\n",
        "\n",
        "# modify elements from indices 2 to 5\n",
        "numbers[2:5] = 22\n",
        "print(numbers)"
      ],
      "metadata": {
        "colab": {
          "base_uri": "https://localhost:8080/"
        },
        "id": "sP6BfoMFvGZn",
        "outputId": "0ebe752a-aa55-4066-9b91-b7d429bd2e67"
      },
      "execution_count": 37,
      "outputs": [
        {
          "output_type": "stream",
          "name": "stdout",
          "text": [
            "[ 2  4 22 22 22 12]\n"
          ]
        }
      ]
    },
    {
      "cell_type": "code",
      "source": [
        "# 4. Using start, stop, and step parameter\n",
        "\n",
        "# create a numpy array\n",
        "numbers = np.array([2, 4, 6, 8, 10, 12])\n",
        "\n",
        "# modify every second element from indices 1 to 5\n",
        "numbers[1:5:2] = 16\n",
        "print(numbers)"
      ],
      "metadata": {
        "colab": {
          "base_uri": "https://localhost:8080/"
        },
        "id": "QtTeQPiAvMxu",
        "outputId": "d909f04a-154d-47f3-e7d7-3537b8904e37"
      },
      "execution_count": 38,
      "outputs": [
        {
          "output_type": "stream",
          "name": "stdout",
          "text": [
            "[ 2 16  6 16 10 12]\n"
          ]
        }
      ]
    },
    {
      "cell_type": "code",
      "source": [
        "# NumPy Array Negative Slicing\n",
        "\n",
        "# create a numpy array\n",
        "numbers = np.array([2, 4, 6, 8, 10, 12])\n",
        "\n",
        "# slice the last 3 elements of the array\n",
        "# using the start parameter\n",
        "print(numbers[-3:])    # [8 10 12]\n",
        "\n",
        "# slice elements from 2nd-to-last to 4th-to-last element\n",
        "# using the start and stop parameters\n",
        "print(numbers[-5:-2])    # [4 6 8]\n",
        "\n",
        "# slice every other element of the array from the end\n",
        "# using the start, stop, and step parameters\n",
        "print(numbers[-1::-2])   # [12 8 4]"
      ],
      "metadata": {
        "colab": {
          "base_uri": "https://localhost:8080/"
        },
        "id": "6xPa3yzKvWa3",
        "outputId": "9bb185a3-c1da-43a4-9e24-7e255c08a53e"
      },
      "execution_count": 39,
      "outputs": [
        {
          "output_type": "stream",
          "name": "stdout",
          "text": [
            "[ 8 10 12]\n",
            "[4 6 8]\n",
            "[12  8  4]\n"
          ]
        }
      ]
    },
    {
      "cell_type": "code",
      "source": [
        "# Reverse NumPy Array Using Negative Slicing\n",
        "\n",
        "# create a numpy array\n",
        "numbers = np.array([2, 4, 6, 8, 10, 12])\n",
        "\n",
        "# generate reversed array\n",
        "reversed_numbers = numbers[::-1]\n",
        "print(reversed_numbers)"
      ],
      "metadata": {
        "colab": {
          "base_uri": "https://localhost:8080/"
        },
        "id": "2cI1fvgtvjOb",
        "outputId": "ec430f79-d6c1-4229-f16f-7b543fb6d292"
      },
      "execution_count": 40,
      "outputs": [
        {
          "output_type": "stream",
          "name": "stdout",
          "text": [
            "[12 10  8  6  4  2]\n"
          ]
        }
      ]
    },
    {
      "cell_type": "code",
      "source": [
        "# 2D NumPy Array Slicing\n",
        "\n",
        "array1 = np.array([[1, 3, 5, 7],\n",
        "                   [9, 11, 13, 15]])\n",
        "\n",
        "print(array1[:2, :2])"
      ],
      "metadata": {
        "colab": {
          "base_uri": "https://localhost:8080/"
        },
        "id": "y73VkOcTvoLz",
        "outputId": "e2d0847f-95c6-45a9-e767-7990caa1d74b"
      },
      "execution_count": 41,
      "outputs": [
        {
          "output_type": "stream",
          "name": "stdout",
          "text": [
            "[[ 1  3]\n",
            " [ 9 11]]\n"
          ]
        }
      ]
    },
    {
      "cell_type": "code",
      "source": [
        "# create a 2D array\n",
        "array1 = np.array([[1, 3, 5, 7],\n",
        "                      [9, 11, 13, 15],\n",
        "                      [2, 4, 6, 8]])\n",
        "\n",
        "\n",
        "# slice the array to get the first two rows and columns\n",
        "subarray1 = array1[:2, :2]\n",
        "\n",
        "# slice the array to get the last two rows and columns\n",
        "subarray2 = array1[1:3, 2:4]\n",
        "\n",
        "# print the subarrays\n",
        "print(\"First Two Rows and Columns: \\n\",subarray1)\n",
        "print(\"Last two Rows and Columns: \\n\",subarray2)"
      ],
      "metadata": {
        "colab": {
          "base_uri": "https://localhost:8080/"
        },
        "id": "TF_c1ui3vwGK",
        "outputId": "1ae7e1f1-9a0a-42b8-e5cf-3ef9dbd2f929"
      },
      "execution_count": 42,
      "outputs": [
        {
          "output_type": "stream",
          "name": "stdout",
          "text": [
            "First Two Rows and Columns: \n",
            " [[ 1  3]\n",
            " [ 9 11]]\n",
            "Last two Rows and Columns: \n",
            " [[13 15]\n",
            " [ 6  8]]\n"
          ]
        }
      ]
    },
    {
      "cell_type": "code",
      "source": [],
      "metadata": {
        "id": "7sbzkXwWv3HE"
      },
      "execution_count": null,
      "outputs": []
    }
  ]
}